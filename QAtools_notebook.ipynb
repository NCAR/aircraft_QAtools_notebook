{
 "cells": [
  {
   "cell_type": "markdown",
   "id": "4e873205-2dfc-4ee6-b292-9cd72bd3a748",
   "metadata": {},
   "source": [
    "# QAtools Notebook\n",
    "[![DOI:<10.26023>](http://img.shields.io/badge/DOI-10.26023-green.svg)](https://doi.org/10.26023/a0e3-4n78)\n",
    "\n",
    "Quick-look statistics and plots from field-phase NCAR/RAF flight netCDF datasets."
   ]
  },
  {
   "cell_type": "markdown",
   "id": "e8ccc7a6-286a-457f-9a49-aee8b963e7cf",
   "metadata": {},
   "source": [
    "## Table of Contents\n",
    "* [References](#references)\n",
    "* [Project and Flight Data information](#project_and_flight_data_information)\n",
    "* [Flight Track](#flight_track)\n",
    "* [Altitude, Heading, and GPS Quality](#alt_heading_gps)\n",
    "* [Temperature](#temperature)\n",
    "    * [Air Temperature](#air_temperature)\n",
    "    * [Dew Point Temperature](#dew_point_temperature)\n",
    "* [Pressure](#pressure)\n",
    "    * [Cavity Pressure](#cavity_pressure)\n",
    "    * [Static Pressure](#static_pressure)\n",
    "    * [Dynamic Pressure](#dynamic_pressure)\n",
    "* [Airspeed](#airspeed)\n",
    "* [Wind](#wind)\n",
    "    * [Wind Direction](#wind_direction)\n",
    "    * [Wind Speed](#wind_speed)\n",
    "* [Schuler Oscillation](#schuler_oscillation)\n",
    "* [Radome Pressures and Angles](#radome)\n",
    "* [Pitch Roll Heading](#pitch_roll_heading)\n",
    "    * [Pitch](#pitch)\n",
    "    * [Roll](#roll)\n",
    "    * [Heading](#heading)\n",
    "* [ACINS VSPD Altitude](#acins_vspd_altitude)\n",
    "    * [ACINS](#acins)\n",
    "    * [VSPD](#vspd)\n",
    "    * [Altitude](#altitude)\n",
    "* [Concentrations](#concentrations)\n",
    "* [Liquid Water](#liquid_water)\n",
    "* [Skew-T Plot](#skewt)\n",
    "* [Potential Temperature](#potential_temperature)\n",
    "* [Chemistry](#chemistry)\n",
    "* [Aerosol and Cloud Probe Histogram Data](#histogram) \n",
    "   \n",
    "    "
   ]
  },
  {
   "cell_type": "markdown",
   "id": "ad804ce4-64e0-40b3-ac70-2c87b90a10d6",
   "metadata": {},
   "source": [
    "## Change Log\n",
    "\n",
    "Version 0.1 7/18/2023:\n",
    "Initial Release \n",
    "GitHub Repo: https://github.com/NCAR/aircraft_QAtools_notebook"
   ]
  },
  {
   "cell_type": "markdown",
   "id": "71a087b1-8b60-4008-abfb-3ff62fa32b64",
   "metadata": {},
   "source": [
    "## References <a class=\"anchor\" id=\"references\"></a>"
   ]
  },
  {
   "cell_type": "markdown",
   "id": "9d769e2a-3082-4f42-8c2d-2ff3ebc6f13e",
   "metadata": {},
   "source": [
    "README: https://github.com/NCAR/aircraft_QAtools_notebook/blob/main/README.md\n",
    "\n",
    "NCAR/RAF netCDF Format: https://archive.eol.ucar.edu/raf/software/netCDF.html\n",
    "\n",
    "NCAR/RAF Processing Algorithms: https://ncar.github.io/aircraft_ProcessingAlgorithms/\n",
    "\n",
    "RSIG Project QAQC Google Sheet: https://drive.google.com/drive/folders/1HB5dQ867T62jWOrqCDD3BV1B6Xiu2w7Q  "
   ]
  },
  {
   "cell_type": "markdown",
   "id": "2ac765dc-36cf-4b3d-8f80-b90ad1741ae4",
   "metadata": {},
   "source": [
    "## Project and Flight Data Information <a class=\"anchor\" id=\"project_and_flight_data_information\"></a>"
   ]
  },
  {
   "cell_type": "code",
   "execution_count": null,
   "id": "018bf93b-4f09-4386-b3bf-1576fee3370f",
   "metadata": {},
   "outputs": [],
   "source": [
    "import os\n",
    "try:\n",
    "    os.system('source ~/.bashrc')\n",
    "    CL = os.environ.get(\"QA_CL\")\n",
    "except:\n",
    "    pass"
   ]
  },
  {
   "cell_type": "code",
   "execution_count": null,
   "id": "63ddbb77-aef4-4e33-becd-a54867fe85ed",
   "metadata": {},
   "outputs": [],
   "source": [
    "if CL == 'command_line_mode':\n",
    "    try:\n",
    "        project = os.environ.get('QA_PROJ')\n",
    "        flight = os.environ.get('QA_FLIGHT')\n",
    "    except:\n",
    "        pass\n",
    "else:\n",
    "    try:\n",
    "        #######################################################################\n",
    "        project = 'ti3ger'\n",
    "        flight = 'rf05'\n",
    "        #######################################################################\n",
    "    except:\n",
    "        pass"
   ]
  },
  {
   "cell_type": "code",
   "execution_count": null,
   "id": "466986b8-f05f-4935-9cff-42d452f3e422",
   "metadata": {},
   "outputs": [],
   "source": [
    "print('Project: ' + project)\n",
    "print('Flight: ' + flight)\n",
    "interactive_histogram = False"
   ]
  },
  {
   "cell_type": "code",
   "execution_count": null,
   "id": "1460050c-7d5b-442f-9c3c-81255b8c42b8",
   "metadata": {
    "tags": []
   },
   "outputs": [],
   "source": [
    "import netCDF4\n",
    "import pandas as pd\n",
    "import numpy as np\n",
    "import seaborn as sns\n",
    "import matplotlib.pyplot as plt\n",
    "from matplotlib.colors import LogNorm, Normalize, ListedColormap\n",
    "from metpy.plots import SkewT\n",
    "from metpy.units import pandas_dataframe_to_unit_arrays, units\n",
    "from datetime import datetime, timedelta\n",
    "from IPython.display import display\n",
    "from bokeh.io import push_notebook, show, output_notebook\n",
    "from bokeh.layouts import row\n",
    "from bokeh.plotting import figure, show\n",
    "from bokeh.models import Title, CustomJS, Select, TextInput, Button, LinearAxis, Range1d, FuncTickFormatter\n",
    "from bokeh.models.formatters import DatetimeTickFormatter\n",
    "from bokeh.palettes import Category10\n",
    "import warnings\n",
    "import itertools \n",
    "import holoviews as hv \n",
    "from holoviews import dim, opts\n",
    "import hvplot.pandas\n",
    "hv.extension('bokeh', 'matplotlib')\n",
    "warnings.filterwarnings('ignore')\n",
    "output_notebook()\n",
    "%matplotlib inline"
   ]
  },
  {
   "cell_type": "code",
   "execution_count": null,
   "id": "d984f479-f676-4c52-93d1-8075f7fb5445",
   "metadata": {},
   "outputs": [],
   "source": [
    "# function definition for creating generic timeseries plot\n",
    "def timeseries_plot(title, y_label, dataframe):\n",
    "    colors = itertools.cycle(Category10[8])\n",
    "    plot = figure(width=1200, height=400, title=title) \n",
    "    plot.add_layout(Title(text=\"Time [UTC]\", align=\"center\"), \"below\")\n",
    "    plot.add_layout(Title(text=y_label, align=\"center\"), \"left\")\n",
    "    \n",
    "    # loop over variables in the pandas dataframe to add to plot\n",
    "    for i in asc[dataframe].columns:\n",
    "        try:\n",
    "            plot.line(dtime, asc[dataframe][i], color=next(colors), legend_label=i)\n",
    "            plot.xaxis.formatter=DatetimeTickFormatter(hourmin = ['%H:%M'])\n",
    "        except Exception as e:\n",
    "            print(e)\n",
    "        try:\n",
    "            plot.legend.location = \"top_left\"\n",
    "        except Exception as e:\n",
    "            print(e)\n",
    "    try:\n",
    "        show(plot)\n",
    "    except Exception as e:\n",
    "        print(e)"
   ]
  },
  {
   "cell_type": "code",
   "execution_count": null,
   "id": "0e88a48c-6107-4b61-87f5-4667d8c2c083",
   "metadata": {},
   "outputs": [],
   "source": [
    "# use the user provided project and flight information to build the path and store the data file as an object\n",
    "filepath = '/Users/taylort/aircraft_QAtools_notebook/'\n",
    "input_file = project + flight + '.nc'\n",
    "nc = netCDF4.Dataset(filepath + '/' + project + '/' + input_file, mode='r')\n",
    "\n",
    "# try to get global attributes from the netcdf file if they are present\n",
    "# determine preliminary or final status\n",
    "try:\n",
    "    proc_status = nc.getncattr('WARNING')\n",
    "    print(proc_status)\n",
    "except:\n",
    "    proc_status = 'final'\n",
    "\n",
    "# determine the NIDAS version\n",
    "try:\n",
    "    nidas = nc.getncattr('NIDASrevision')\n",
    "    print('NIDAS version: ' + nidas)\n",
    "except Exception as e:\n",
    "    print(e)\n",
    "\n",
    "# determine the NIMBUS version\n",
    "try:\n",
    "    nimbus = nc.getncattr('RepositoryRevision')\n",
    "    print('NIMBUS version: ' + nimbus)\n",
    "except Exception as e:\n",
    "    print(e)\n",
    "\n",
    "# determine the processing date and time\n",
    "try:\n",
    "    proc_date = nc.getncattr('date_created')\n",
    "    print('Processing Date & Time: ' + proc_date)\n",
    "except Exception as e:\n",
    "    print(e)"
   ]
  },
  {
   "cell_type": "code",
   "execution_count": null,
   "id": "bb9b13dd-e70c-46d0-b177-99f0c5302a9f",
   "metadata": {
    "tags": []
   },
   "outputs": [],
   "source": [
    "# sometimes the netcdf4 api produces an issue with big-endian buffer on little-endian compiler\n",
    "byte_swap = False\n",
    "\n",
    "# create empty placeholders for asc, histo_asc and units\n",
    "asc = {}\n",
    "histo_asc = {}\n",
    "units = {}\n",
    "cellsize = {}\n",
    "\n",
    "# use the netcdf4 api to get the netcdf data into a dataframe\n",
    "try:\n",
    "    \n",
    "    # loop over keys in netCDF file and organize\n",
    "    for i in nc.variables.keys():\n",
    "        dims = str(nc.variables[i].dimensions)\n",
    "        \n",
    "        # this if section retrieves data that has time dimension only\n",
    "        if dims == \"('Time',)\":\n",
    "            output = nc[i][:]\n",
    "            # sometimes the netcdf4 api produces an issue with big-endian buffer on little-endian compiler\n",
    "            if byte_swap == True:\n",
    "                output = output.byteswap().newbyteorder()\n",
    "            else:\n",
    "                pass\n",
    "            asc[i] = pd.DataFrame(output)\n",
    "            units_var = nc.variables[i].getncattr('units')\n",
    "            units[i] = pd.Series(units_var)\n",
    "            asc[i].columns = pd.MultiIndex.from_tuples(zip(asc[i].columns, units[i]))\n",
    "        \n",
    "        # this section retrieves data that has a size distribution dimension in addition to time\n",
    "        elif \"sps1\" in dims:\n",
    "            histo_output = nc.variables[i][:, 0, :]\n",
    "            # sometimes the netcdf4 api produces an issue with big-endian buffer on little-endian compiler\n",
    "            if byte_swap == True:\n",
    "                histo_output = histo_output.byteswap().newbyteorder()\n",
    "            else:\n",
    "                pass\n",
    "            histo_asc[i] = pd.DataFrame(histo_output)\n",
    "            \n",
    "            # this try / except block accommodates size distribution data that has an attribute CellSizes\n",
    "            try:\n",
    "                cellsize = nc.variables[i].getncattr('CellSizes')\n",
    "                histo_asc[i].columns = pd.MultiIndex.from_tuples(zip(histo_asc[i].columns, cellsize))\n",
    "            except Exception as e:\n",
    "                histo_asc[i].columns = pd.MultiIndex.from_tuples(zip(histo_asc[i].columns, histo_asc[i].columns))\n",
    "        else:\n",
    "            pass    \n",
    "\n",
    "    # concatenate the dataframe\n",
    "    asc = pd.concat(asc, axis=1, ignore_index=False)\n",
    "    \n",
    "    # extract the Time variable and organize as a pandas series\n",
    "    dtime = nc.variables['Time']\n",
    "    dtime = pd.DataFrame(dtime[:])\n",
    "    new_dtime = []\n",
    "    for index in range(len(dtime)):\n",
    "        new_dtime.append(timedelta(seconds=int(dtime.loc[index])))\n",
    "    dtime = pd.Series(new_dtime)\n",
    "    \n",
    "    # clean up the dataframe by dropping some of the multi-index rows\n",
    "    asc.columns = asc.columns.droplevel(1)\n",
    "    asc.columns = asc.columns.droplevel(1)\n",
    "    \n",
    "    # concatenate the histogram data\n",
    "    histo_asc = pd.concat(histo_asc, axis=1, ignore_index=False)\n",
    "    histo_asc.columns = histo_asc.columns.droplevel(1)\n",
    "    colors = itertools.cycle(Category10[6])\n",
    "    \n",
    "    # scrub data based on ground speed change value from 60 to something else if you want more or less data\n",
    "    asc.drop(asc[asc['GGSPD'] < 60].index, inplace = True)\n",
    "except Exception as e:\n",
    "    print(e)"
   ]
  },
  {
   "cell_type": "markdown",
   "id": "f6cf051d-f147-48c5-a5c2-be7f3c3a0b12",
   "metadata": {},
   "source": [
    "## Flight Track <a class=\"anchor\" id=\"flight_track\"></a>"
   ]
  },
  {
   "cell_type": "code",
   "execution_count": null,
   "id": "3721fe1c-35b6-4c42-b1bf-d6856b4681b5",
   "metadata": {
    "scrolled": true
   },
   "outputs": [],
   "source": [
    "# get latitude and longitude from asc dataframe\n",
    "latitude = asc[\"GGLAT\"]\n",
    "longitude = asc[\"GGLON\"]\n",
    "\n",
    "# update to mercator projection\n",
    "k = 6378137\n",
    "longitude = longitude * (k * np.pi/180.0)\n",
    "latitude = np.log(np.tan((90 + latitude) * np.pi/360.0)) * k\n",
    "\n",
    "# create the plot layout and add axis labels\n",
    "try:\n",
    "    plot = figure(width=1000, height=1000, title=project + ' ' + flight + \" Flight Track\", x_axis_type=\"mercator\", y_axis_type=\"mercator\") \n",
    "    plot.add_layout(Title(text=\"Longitude [Degrees]\", align=\"center\"), \"below\")\n",
    "    plot.add_layout(Title(text=\"Latitude [Degrees]\", align=\"center\"), \"left\")\n",
    "except Exception as e:\n",
    "    print(e)\n",
    "\n",
    "# add the flight track in yellow and add Esri World Imagery as the basemap\n",
    "try:\n",
    "    plot.line(longitude,latitude, color=\"yellow\")\n",
    "    plot.add_tile(\"Esri World Imagery\", retina=True)\n",
    "    show(plot)\n",
    "except Exception as e:\n",
    "    print(e)"
   ]
  },
  {
   "cell_type": "markdown",
   "id": "03b8d97f-5159-4635-8713-e55be2730c43",
   "metadata": {},
   "source": [
    "## Altitude, Heading, and GPS Quality <a class=\"anchor\" id=\"alt_heading_gps\"></a>"
   ]
  },
  {
   "cell_type": "code",
   "execution_count": null,
   "id": "b56ac8e0-ce44-4f4c-a428-d4bae74e63db",
   "metadata": {},
   "outputs": [],
   "source": [
    "# create a subset for altitude in order to generate stats\n",
    "alt_heading = []\n",
    "for i in asc.columns:\n",
    "    if i.startswith('GGALTF') | i.startswith('PALTF') | i.startswith('PA2'):\n",
    "        alt_heading.append(i)\n",
    "\n",
    "# generate the stats table\n",
    "asc[alt_heading].describe()"
   ]
  },
  {
   "cell_type": "code",
   "execution_count": null,
   "id": "5d2e8662-d2e4-411a-9f18-cce10ce0389f",
   "metadata": {
    "tags": []
   },
   "outputs": [],
   "source": [
    "# generate the altitude, heading and gps quality plots\n",
    "# altitude plot\n",
    "timeseries_plot(\"Altitude\", \"Altitude [Feet]\", alt_heading)\n",
    "colors = itertools.cycle(Category10[6])\n",
    "plot = figure(width=1200, height=400, title=\"Heading\") \n",
    "plot.add_layout(Title(text=\"Time [UTC]\", align=\"center\"), \"below\")\n",
    "plot.add_layout(Title(text=\"True Heading [Degrees]\", align=\"center\"), \"left\")\n",
    "try:\n",
    "    plot.line(dtime, asc['THDG'], color=next(colors))\n",
    "    plot.xaxis.formatter=DatetimeTickFormatter(hourmin = ['%H:%M'])\n",
    "    show(plot)\n",
    "except:\n",
    "    pass\n",
    "\n",
    "colors = itertools.cycle(Category10[6])\n",
    "plot = figure(width=1200, height=400, title=\"GPS Quality: 5 = TerraStar corrected, 2 = TerraStar converging, 9 = WAAS, 1 = Standard GPS, 0 = No Fix\") \n",
    "plot.add_layout(Title(text=\"Time [UTC]\", align=\"center\"), \"below\")\n",
    "plot.add_layout(Title(text=\"GPS Quality []\", align=\"center\"), \"left\")\n",
    "try:\n",
    "    plot.line(dtime, asc['GGQUAL'], color=next(colors), legend_label=\"GGQUAL\")\n",
    "except:\n",
    "    pass\n",
    "try:\n",
    "    plot.line(dtime, asc['GGNSAT'], color=next(colors), legend_label=\"GGNSAT\")\n",
    "    plot.xaxis.formatter=DatetimeTickFormatter(hourmin = ['%H:%M'])\n",
    "except:\n",
    "    pass\n",
    "try:\n",
    "    show(plot)\n",
    "except:\n",
    "    pass"
   ]
  },
  {
   "cell_type": "markdown",
   "id": "570ecfbe-dcf4-4aa0-909c-2d3d09092bb7",
   "metadata": {},
   "source": [
    "## Temperature <a class=\"anchor\" id=\"temperature\"></a>"
   ]
  },
  {
   "cell_type": "markdown",
   "id": "e32048c1-7b5b-4cb9-b9cb-6fa53e5aa1c5",
   "metadata": {},
   "source": [
    "### Air Temperature <a class=\"anchor\" id=\"air_temperature\"></a>"
   ]
  },
  {
   "cell_type": "code",
   "execution_count": null,
   "id": "bf66babf-9a33-4cc9-be9e-30277d13d8d7",
   "metadata": {
    "tags": []
   },
   "outputs": [],
   "source": [
    "# create a subset for air temperature in order to generate stats\n",
    "temp = []\n",
    "for i in asc.columns:\n",
    "    if i.startswith('ATX') | i.startswith('ATH') | i.startswith('ATF') | i.startswith('AT_'):\n",
    "        temp.append(i)\n",
    "# remove data that is not useful\n",
    "try:\n",
    "    temp.remove('AT_VXL')\n",
    "except:\n",
    "    pass\n",
    "    \n",
    "# generate the stats table\n",
    "try:\n",
    "    asc[temp].describe()\n",
    "except:\n",
    "    pass"
   ]
  },
  {
   "cell_type": "code",
   "execution_count": null,
   "id": "e8779969-6545-4d19-b118-3de9bbcf8891",
   "metadata": {
    "tags": []
   },
   "outputs": [],
   "source": [
    "timeseries_plot(\"Temperature\", \"Temperature [\\N{DEGREE CELSIUS}]\", temp)\n",
    "    \n",
    "colors = itertools.cycle(Category10[6])\n",
    "plot = figure(width=1200, height=400, title=\"ATX - Temperature\") \n",
    "plot.add_layout(Title(text=\"Time [UTC]\", align=\"center\"), \"below\")\n",
    "plot.add_layout(Title(text=\"Temperature Difference [\\N{DEGREE CELSIUS}]\", align=\"center\"), \"left\")\n",
    "for i in asc[temp].columns:\n",
    "    try:\n",
    "        plot.line(dtime, asc[temp][i] -  asc['ATX'], color=next(colors), legend_label=i)\n",
    "        plot.line(dtime, 0.25, color = 'black', line_dash=\"4 4\", line_width=2)\n",
    "        plot.line(dtime, -0.25, color = 'black', line_dash=\"4 4\", line_width=2)\n",
    "\n",
    "        plot.xaxis.formatter=DatetimeTickFormatter(hourmin = ['%H:%M'])\n",
    "    except Exception as e:\n",
    "        print(e)\n",
    "try:\n",
    "    plot.legend.location = \"top_left\"\n",
    "    show(plot)\n",
    "except:\n",
    "    pass\n",
    "    \n",
    "# loop over temperatures\n",
    "for i in asc[temp].columns:    \n",
    "    try:\n",
    "        # create plot labels\n",
    "        plot = figure(width=700, height=500, title=asc[temp][i].name) \n",
    "        plot.add_layout(Title(text=\"ATH1 [\\N{DEGREE CELSIUS}]\", align=\"center\"), \"below\")\n",
    "        plot.add_layout(Title(text=asc[temp][i].name + \" [\\N{DEGREE CELSIUS}]\", align=\"center\"), \"left\")\n",
    "    except:\n",
    "        pass\n",
    "    try:\n",
    "        # create scatter plots\n",
    "        plot.scatter(asc[temp]['ATX'], asc[temp]['ATX'], color = 'black', line_dash = 'dotted', legend_label='1:1')\n",
    "        plot.scatter(asc[temp]['ATH1'], asc[temp][i], color='orange', legend_label=i)\n",
    "    except:\n",
    "        pass\n",
    "    try:\n",
    "        # create additional y axis range\n",
    "        plot.extra_y_ranges['delta'] = Range1d(-4, 4)\n",
    "        ax2 = LinearAxis(y_range_name=\"delta\", axis_label=\"Delta Temperature [C]\")\n",
    "        ax2.axis_label_text_color =\"red\"\n",
    "        plot.add_layout(ax2, 'right')\n",
    "    except:\n",
    "        pass\n",
    "    try:\n",
    "        # create line plot of temperature differences using the additional y axis range\n",
    "        plot.line(asc[temp]['ATH1'], asc[temp][i]-asc[temp]['ATH1'], color='red', legend_label=i, y_range_name=\"delta\")\n",
    "        plot.line(asc[temp]['ATH1'], 1, color = 'gray', y_range_name=\"delta\")\n",
    "        plot.line(asc[temp]['ATH1'], - 1, color = 'gray', y_range_name=\"delta\")\n",
    "    except:\n",
    "        pass\n",
    "    try:\n",
    "        plot.legend.location = \"top_left\"\n",
    "    except:\n",
    "        pass\n",
    "    show(plot)"
   ]
  },
  {
   "cell_type": "markdown",
   "id": "d8cceeff-ba5a-40ec-b933-565c19ef47f3",
   "metadata": {},
   "source": [
    "### Dew Point Temperature <a class=\"anchor\" id=\"dew_point_temperature\"></a>"
   ]
  },
  {
   "cell_type": "code",
   "execution_count": null,
   "id": "31cc9c19-4308-4f13-8a8d-a1bbd4ce4b25",
   "metadata": {
    "tags": []
   },
   "outputs": [],
   "source": [
    "# create a subset for dew point temperature in order to generate stats\n",
    "dpt = []\n",
    "for i in asc.columns:\n",
    "    if i.startswith('DP_') | i.startswith('ATX'):\n",
    "        dpt.append(i)\n",
    "asc[dpt].describe()\n"
   ]
  },
  {
   "cell_type": "code",
   "execution_count": null,
   "id": "e08f34b7-1ed6-4d5f-9d4d-c4d0cddbfa64",
   "metadata": {
    "tags": []
   },
   "outputs": [],
   "source": [
    "timeseries_plot(\"Dew Point Temperatures\", \"Dew Point [C]\", dpt)\n",
    "\n",
    "colors = itertools.cycle(Category10[6])\n",
    "plot = figure(width=1200, height=400, title=\"Diff Dew Point Temperatures\") \n",
    "plot.add_layout(Title(text=\"Time [UTC]\", align=\"center\"), \"below\")\n",
    "plot.add_layout(Title(text=\"Diff DPL - DP Dew Point [C]\", align=\"center\"), \"left\")\n",
    "for i in asc[dpt].columns:\n",
    "    try:\n",
    "        plot.line(dtime, asc['DP_DPL'] - asc[dpt][i], color=next(colors), legend_label=i)\n",
    "        plot.xaxis.formatter=DatetimeTickFormatter(hourmin = ['%H:%M'])\n",
    "    except:\n",
    "        pass\n",
    "\n",
    "try:\n",
    "    plot.line(dtime, 1, color = 'black', line_dash=\"4 4\", line_width=2)\n",
    "    plot.line(dtime, -1, color = 'black', line_dash=\"4 4\", line_width=2)\n",
    "    plot.legend.location = \"top_left\"\n",
    "    plot.y_range=Range1d(-5, 5)\n",
    "    show(plot)\n",
    "except:\n",
    "    pass "
   ]
  },
  {
   "cell_type": "code",
   "execution_count": null,
   "id": "8b5b249d-5b00-476a-9325-47f19606001b",
   "metadata": {
    "tags": []
   },
   "outputs": [],
   "source": [
    "# create plot labels\n",
    "plot = figure(width=1200, height=800) \n",
    "plot.add_layout(Title(text=\"DP_DPR [C]\", align=\"center\"), \"below\")\n",
    "plot.add_layout(Title(text=\"DP_DPL [C]\", align=\"center\"), \"left\")\n",
    "try:\n",
    "    try:\n",
    "        # create scatter plots\n",
    "        plot.scatter(asc['DP_DPR'], asc['DP_DPL'], color = 'blue', legend_label='DP_DPL')\n",
    "    except:\n",
    "        pass    \n",
    "    try:\n",
    "        # DP_DPR used to create a 1:1 line\n",
    "        plot.line(asc['DP_DPR'], asc['DP_DPR'], color = 'black', legend_label='1:1')\n",
    "        # +- 5C lines for quick visualization on bounds\n",
    "        plot.line(asc['DP_DPR'], asc['DP_DPR']+5, color = 'orange', legend_label='+-5C')\n",
    "        plot.line(asc['DP_DPR'], asc['DP_DPR']-5, color = 'orange')\n",
    "    except:\n",
    "        pass\n",
    "    try:\n",
    "        plot.scatter(asc['DP_DPR'], asc['DP_VXL'], color = 'green', legend_label='DP_VXL')\n",
    "    except:\n",
    "        pass\n",
    "except:\n",
    "    pass\n",
    "try:\n",
    "    plot.legend.location = \"top_left\"\n",
    "    show(plot)\n",
    "except:\n",
    "    pass\n"
   ]
  },
  {
   "cell_type": "markdown",
   "id": "2522c58f-113c-458f-ba60-3aabba6f9b14",
   "metadata": {},
   "source": [
    "## Pressure <a class=\"anchor\" id=\"pressure\"></a>"
   ]
  },
  {
   "cell_type": "markdown",
   "id": "7189c33e-33b6-4935-a910-d2828d714360",
   "metadata": {},
   "source": [
    "### Cavity Pressure <a class=\"anchor\" id=\"cavity_pressure\"></a>"
   ]
  },
  {
   "cell_type": "code",
   "execution_count": null,
   "id": "1bab60fb-7f92-454a-ac2b-34fb6001be3f",
   "metadata": {},
   "outputs": [],
   "source": [
    "# create a subset for cavity pressure in order to generate stats\n",
    "cav_pressure = []\n",
    "for i in asc.columns:\n",
    "    if i.startswith('CAVP_') | i.startswith('CAVPF_') | i.startswith('PSXC'):\n",
    "        cav_pressure.append(i)\n",
    "# remove some vars that don't provide value\n",
    "try:\n",
    "    cav_pressure.remove('CAVP_WVISO2346')\n",
    "except:\n",
    "    pass\n",
    "try:\n",
    "    cav_pressure.remove('CAVP_GNI')\n",
    "except:\n",
    "    pass\n",
    "# show the stats table\n",
    "try:\n",
    "    asc[cav_pressure].describe()\n",
    "except:\n",
    "    pass"
   ]
  },
  {
   "cell_type": "code",
   "execution_count": null,
   "id": "a2fde3c9-7ba1-495e-beb8-adb2db670a1c",
   "metadata": {},
   "outputs": [],
   "source": [
    "timeseries_plot(\"Cavity Pressure\", \"Pressure [hPa]\", cav_pressure)"
   ]
  },
  {
   "cell_type": "markdown",
   "id": "50fcfa3c-e9e4-4568-b05c-db483e32d480",
   "metadata": {},
   "source": [
    "### Vapor Pressure <a class=\"anchor\" id=\"vapor_pressure\"></a>"
   ]
  },
  {
   "cell_type": "code",
   "execution_count": null,
   "id": "eb5f53a2-b67e-40d4-8b89-314de482977e",
   "metadata": {},
   "outputs": [],
   "source": [
    "vapor_pressure = []\n",
    "for i in asc.columns:\n",
    "    if i.startswith('EW_'):\n",
    "        vapor_pressure.append(i)\n",
    "try:\n",
    "    asc[vapor_pressure].describe()\n",
    "except:\n",
    "    pass\n",
    "\n",
    "#mixing_ratio = []\n",
    "#for i in asc.columns:\n",
    "#    if i.startswith('MR_'):\n",
    "#        mixing_ratio.append(i)\n",
    "#try:\n",
    "#   asc[mixing_ratio].describe()\n",
    "#except:\n",
    "#    pass\n",
    "    \n",
    "rh = []\n",
    "for i in asc.columns:\n",
    "    if i.startswith('RH_'):\n",
    "        rh.append(i)\n",
    "asc[rh].describe()"
   ]
  },
  {
   "cell_type": "code",
   "execution_count": null,
   "id": "2f0f2c7b-baec-44b0-aeee-5fcfea3f9e08",
   "metadata": {},
   "outputs": [],
   "source": [
    "timeseries_plot(\"Vapor Pressure\", \"EWy [hPa]\", vapor_pressure)\n",
    "timeseries_plot(\"Relative Humidity\", \"RH [%]\", rh)"
   ]
  },
  {
   "cell_type": "markdown",
   "id": "c08cb1f9-61ce-4133-837a-2f932d8d5dc2",
   "metadata": {},
   "source": [
    "### Static Pressure <a class=\"anchor\" id=\"static_pressure\"></a>"
   ]
  },
  {
   "cell_type": "code",
   "execution_count": null,
   "id": "1b95ec55-7abd-4d88-bcda-953a6c9c8da8",
   "metadata": {
    "tags": []
   },
   "outputs": [],
   "source": [
    "static_pressure = []\n",
    "for i in asc.columns:\n",
    "    if i.startswith('PS_') | i.startswith('PSF') | i.startswith('PST'):\n",
    "        static_pressure.append(i)\n",
    "    \n",
    "asc[static_pressure].describe()\n"
   ]
  },
  {
   "cell_type": "code",
   "execution_count": null,
   "id": "6b34b738-995e-46eb-8a88-8cc7d15387a7",
   "metadata": {
    "tags": []
   },
   "outputs": [],
   "source": [
    "colors = itertools.cycle(Category10[8])\n",
    "plot = figure(width=1200, height=400, title=\"Static Pressure\") \n",
    "plot.add_layout(Title(text=\"Time [UTC]\", align=\"center\"), \"below\")\n",
    "plot.add_layout(Title(text=\"Pressure [hPa]\", align=\"center\"), \"left\")\n",
    "for i in asc[static_pressure].columns:\n",
    "    try:\n",
    "        plot.line(dtime, asc[static_pressure][i], color=next(colors), legend_label=i)\n",
    "        plot.xaxis.formatter=DatetimeTickFormatter(hourmin = ['%H:%M'])\n",
    "    except:\n",
    "        pass\n",
    "try:\n",
    "    plot.legend.location = \"top_left\"\n",
    "    show(plot)\n",
    "except:\n",
    "    pass\n",
    "\n",
    "colors = itertools.cycle(Category10[8])\n",
    "plot = figure(width=1200, height=400, title=\"Difference versus PSFC\") \n",
    "plot.add_layout(Title(text=\"Time [UTC]\", align=\"center\"), \"below\")\n",
    "plot.add_layout(Title(text=\"Pressure - PSFC [C]\", align=\"center\"), \"left\")\n",
    "for i in asc[static_pressure].columns:\n",
    "    try:\n",
    "        plot.line(dtime, asc[static_pressure][i] - asc['PSFC'], color=next(colors), legend_label=i)\n",
    "        plot.xaxis.formatter=DatetimeTickFormatter(hourmin = ['%H:%M'])\n",
    "    except:\n",
    "        pass\n",
    "plot.line(dtime, 1, color = 'black', line_dash=\"4 4\", line_width=2)\n",
    "plot.xaxis.formatter=DatetimeTickFormatter(hourmin = ['%H:%M'])\n",
    "plot.line(dtime, -1, color = 'black', line_dash=\"4 4\", line_width=2)\n",
    "plot.xaxis.formatter=DatetimeTickFormatter(hourmin = ['%H:%M'])\n",
    "try:\n",
    "    plot.legend.location = \"top_left\"\n",
    "    plot.y_range=Range1d(-5, 5)\n",
    "    show(plot)\n",
    "except:\n",
    "    pass\n",
    "    \n",
    "colors = itertools.cycle(Category10[8])\n",
    "plot = figure(width=1200, height=400, title=\"Difference versus PSXC\") \n",
    "plot.add_layout(Title(text=\"Time [UTC]\", align=\"center\"), \"below\")\n",
    "plot.add_layout(Title(text=\"Pressure - PSXC [C]\", align=\"center\"), \"left\")\n",
    "for i in asc[static_pressure].columns:\n",
    "    try:\n",
    "        plot.line(dtime, asc['PSXC'] - asc[static_pressure][i], color=next(colors), legend_label=i)\n",
    "    except:\n",
    "        pass\n",
    "\n",
    "plot.line(dtime, 1, color = 'black', line_dash=\"4 4\", line_width=2)\n",
    "plot.xaxis.formatter=DatetimeTickFormatter(hourmin = ['%H:%M'])\n",
    "plot.line(dtime, -1, color = 'black', line_dash=\"4 4\", line_width=2)\n",
    "plot.xaxis.formatter=DatetimeTickFormatter(hourmin = ['%H:%M'])\n",
    "try:\n",
    "    plot.legend.location = \"top_left\"\n",
    "    plot.y_range=Range1d(-10, 10)\n",
    "    show(plot)\n",
    "except:\n",
    "    pass"
   ]
  },
  {
   "cell_type": "markdown",
   "id": "7b4a4d78-1de7-4ff8-a987-065d658b13df",
   "metadata": {},
   "source": [
    "### Dynamic Pressure <a class=\"anchor\" id=\"dynamic_pressure\"></a>"
   ]
  },
  {
   "cell_type": "code",
   "execution_count": null,
   "id": "d4890701-f30b-42c7-b5ad-263d8d2ac019",
   "metadata": {
    "tags": []
   },
   "outputs": [],
   "source": [
    "dynamic_pressure_corr = []\n",
    "for i in asc.columns:\n",
    "    if i.startswith('QC_') | i.startswith('QCTFC') | i.startswith('QCRC') | i.startswith('QCFC'):\n",
    "        dynamic_pressure_corr.append(i)\n",
    "asc[dynamic_pressure_corr].describe()"
   ]
  },
  {
   "cell_type": "code",
   "execution_count": null,
   "id": "10ac3c8a-4d89-4946-a8ac-7dcd7a46bfb8",
   "metadata": {
    "tags": []
   },
   "outputs": [],
   "source": [
    "dynamic_pressure_uncorr = []\n",
    "for i in asc.columns:\n",
    "    if i.startswith('QC_') | i.startswith('QCTF') | i.startswith('QCR') | i.startswith('QCF'):\n",
    "        dynamic_pressure_uncorr.append(i)\n",
    "try:\n",
    "    dynamic_pressure_uncorr.remove('QCRTEMP')\n",
    "except:\n",
    "    pass\n",
    "try:\n",
    "    dynamic_pressure_uncorr.remove('QCFTEMP')\n",
    "except:\n",
    "    pass\n",
    "try:\n",
    "    dynamic_pressure_uncorr.remove('QCTFTEMP')\n",
    "except:\n",
    "    pass\n",
    "try:\n",
    "    dynamic_pressure_uncorr.remove('QCTF')\n",
    "except:\n",
    "    pass\n",
    "try:\n",
    "    asc[dynamic_pressure_uncorr].describe()\n",
    "except:\n",
    "    pass"
   ]
  },
  {
   "cell_type": "code",
   "execution_count": null,
   "id": "9c3ebcf0-9c4e-410f-926c-bf27cd50df70",
   "metadata": {
    "tags": []
   },
   "outputs": [],
   "source": [
    "# plot dynamic pressure timeseries\n",
    "colors = itertools.cycle(Category10[8])\n",
    "plot = figure(width=1200, height=400, title=\"Dynamic Pressure\") \n",
    "plot.add_layout(Title(text=\"Time [UTC]\", align=\"center\"), \"below\")\n",
    "plot.add_layout(Title(text=\"Corrected Pressure QCyC [hPa]\", align=\"center\"), \"left\")\n",
    "for i in asc[dynamic_pressure_corr].columns:\n",
    "    try:\n",
    "        plot.line(dtime, asc[dynamic_pressure_corr][i], color=next(colors), legend_label=i)\n",
    "        plot.xaxis.formatter=DatetimeTickFormatter(hourmin = ['%H:%M'])\n",
    "    except:\n",
    "        pass\n",
    "try:\n",
    "    plot.legend.location = \"top_left\"\n",
    "    show(plot)\n",
    "except:\n",
    "    pass\n",
    "\n",
    "# plot delta pressure QCFC\n",
    "colors = itertools.cycle(Category10[8])\n",
    "plot = figure(width=1200, height=400, title=\"Difference versus QCFC\") \n",
    "plot.add_layout(Title(text=\"Time [UTC]\", align=\"center\"), \"below\")\n",
    "plot.add_layout(Title(text=\"Pressure - QCFC [C]\", align=\"center\"), \"left\")\n",
    "for i in asc[dynamic_pressure_corr].columns:\n",
    "    try:\n",
    "        plot.line(dtime, asc[dynamic_pressure_corr]['QCFC'] - asc[dynamic_pressure_corr][i], color=next(colors), legend_label=i)\n",
    "        plot.xaxis.formatter=DatetimeTickFormatter(hourmin = ['%H:%M'])\n",
    "    except:\n",
    "        pass\n",
    "plot.line(dtime, 1, color = 'black', line_dash=\"4 4\", line_width=2)\n",
    "plot.xaxis.formatter=DatetimeTickFormatter(hourmin = ['%H:%M'])\n",
    "plot.line(dtime, -1, color = 'black', line_dash=\"4 4\", line_width=2)\n",
    "plot.xaxis.formatter=DatetimeTickFormatter(hourmin = ['%H:%M'])\n",
    "try:\n",
    "    plot.legend.location = \"top_left\"\n",
    "    plot.y_range=Range1d(-20, 20)\n",
    "    show(plot)\n",
    "except:\n",
    "    pass\n",
    "# plot delta pressure QCXC\n",
    "colors = itertools.cycle(Category10[8])\n",
    "plot = figure(width=1200, height=400, title=\"Difference versus QCXC\") \n",
    "plot.add_layout(Title(text=\"Time [UTC]\", align=\"center\"), \"below\")\n",
    "plot.add_layout(Title(text=\"Pressure - QCXC [C]\", align=\"center\"), \"left\")\n",
    "for i in asc[dynamic_pressure_uncorr].columns:\n",
    "    try:\n",
    "        plot.line(dtime, asc['QCXC'] - asc[dynamic_pressure_uncorr][i], color=next(colors), legend_label=i)\n",
    "        plot.xaxis.formatter=DatetimeTickFormatter(hourmin = ['%H:%M'])\n",
    "    except:\n",
    "        pass\n",
    "plot.line(dtime, 1, color = 'black', line_dash=\"4 4\", line_width=2)\n",
    "plot.xaxis.formatter=DatetimeTickFormatter(hourmin = ['%H:%M'])\n",
    "plot.line(dtime, - 1, color = 'black', line_dash=\"4 4\", line_width=2)\n",
    "plot.xaxis.formatter=DatetimeTickFormatter(hourmin = ['%H:%M'])\n",
    "try:\n",
    "    plot.legend.location = \"top_left\"\n",
    "    plot.y_range=Range1d(-10, 10)\n",
    "    show(plot)\n",
    "except:\n",
    "    pass"
   ]
  },
  {
   "cell_type": "markdown",
   "id": "dbc253b3-c39b-4d60-a152-f5b34977c5f1",
   "metadata": {},
   "source": [
    "## Airspeed <a class=\"anchor\" id=\"airspeed\"></a>"
   ]
  },
  {
   "cell_type": "code",
   "execution_count": null,
   "id": "26a5f1ae-e080-4883-ab6a-7d393eb8cfdf",
   "metadata": {},
   "outputs": [],
   "source": [
    "airspeed = []\n",
    "for i in asc.columns:\n",
    "    if i.startswith('TAS'):\n",
    "        airspeed.append(i)\n",
    "try:\n",
    "    airspeed.remove('TASFLG')\n",
    "except:\n",
    "    pass\n",
    "try:\n",
    "    airspeed.remove('TAS_RWOO')\n",
    "except:\n",
    "    pass\n",
    "asc[airspeed].describe()"
   ]
  },
  {
   "cell_type": "code",
   "execution_count": null,
   "id": "292ddbb2-8c56-4949-b656-ed912df6ca22",
   "metadata": {},
   "outputs": [],
   "source": [
    "# plot airspeed\n",
    "colors = itertools.cycle(Category10[8])\n",
    "plot = figure(width=1200, height=400, title=\"Airspeed\") \n",
    "plot.add_layout(Title(text=\"Time [UTC]\", align=\"center\"), \"below\")\n",
    "plot.add_layout(Title(text=\"TASy [m/s]\", align=\"center\"), \"left\")\n",
    "for i in asc[airspeed].columns:\n",
    "    try:\n",
    "        plot.line(dtime, asc[airspeed][i], color=next(colors), legend_label=i)\n",
    "        plot.xaxis.formatter=DatetimeTickFormatter(hourmin = ['%H:%M'])\n",
    "    except:\n",
    "        pass\n",
    "\n",
    "try:\n",
    "    plot.legend.location = \"top_left\"\n",
    "    show(plot)\n",
    "except:\n",
    "    pass\n",
    "# plot delta airspeed\n",
    "colors = itertools.cycle(Category10[8])\n",
    "plot = figure(width=1200, height=400, title=\"Delta Airspeed\") \n",
    "plot.add_layout(Title(text=\"Time [UTC]\", align=\"center\"), \"below\")\n",
    "plot.add_layout(Title(text=\"Difference v TASF [m/s]\", align=\"center\"), \"left\")\n",
    "for i in asc[airspeed].columns:\n",
    "    try:\n",
    "        plot.line(dtime, asc[airspeed][i]-asc['TASF'], color=next(colors), legend_label=i)\n",
    "        plot.xaxis.formatter=DatetimeTickFormatter(hourmin = ['%H:%M'])\n",
    "    except:\n",
    "        pass\n",
    "try:\n",
    "    plot.legend.location = \"top_left\"\n",
    "    plot.line(dtime, 1, color = 'black', line_dash=\"4 4\", line_width=2)\n",
    "    plot.line(dtime, -1, color = 'black', line_dash=\"4 4\", line_width=2)\n",
    "    plot.y_range=Range1d(-3, 3)\n",
    "    show(plot)\n",
    "except:\n",
    "    pass"
   ]
  },
  {
   "cell_type": "code",
   "execution_count": null,
   "id": "4745b2db-b39a-4a28-bc98-4bd6addab78d",
   "metadata": {},
   "outputs": [],
   "source": [
    "mach = []\n",
    "for i in asc.columns:\n",
    "    if i.startswith('MACH'):\n",
    "        mach.append(i)\n",
    "asc[mach].describe()"
   ]
  },
  {
   "cell_type": "code",
   "execution_count": null,
   "id": "cce26492-4e41-4dfa-9018-4d9b3ef1d981",
   "metadata": {},
   "outputs": [],
   "source": [
    "# plot mach\n",
    "colors = itertools.cycle(Category10[8])\n",
    "plot = figure(width=1200, height=400, title=\"Mach\") \n",
    "plot.add_layout(Title(text=\"Time [UTC]\", align=\"center\"), \"below\")\n",
    "plot.add_layout(Title(text=\"MACHy\", align=\"center\"), \"left\")\n",
    "for i in asc[mach].columns:\n",
    "    try:\n",
    "        plot.line(dtime, asc[mach][i], color=next(colors), legend_label=i)\n",
    "        plot.xaxis.formatter=DatetimeTickFormatter(hourmin = ['%H:%M'])\n",
    "    except:\n",
    "        pass\n",
    "try:\n",
    "    plot.legend.location = \"top_left\"\n",
    "    show(plot)\n",
    "except:\n",
    "    pass"
   ]
  },
  {
   "cell_type": "code",
   "execution_count": null,
   "id": "a5f6bc10-0c77-4b2d-8715-247264537955",
   "metadata": {},
   "outputs": [],
   "source": [
    "pst = []\n",
    "for i in asc.columns:\n",
    "    if i.startswith('PST'):\n",
    "        pst.append(i)\n",
    "asc[pst].describe()"
   ]
  },
  {
   "cell_type": "code",
   "execution_count": null,
   "id": "1ae21255-b41b-47a8-8fa4-5a12c4200e69",
   "metadata": {},
   "outputs": [],
   "source": [
    "timeseries_plot(\"Corrected Static Pressure Top of Fuselage\", \"PSTF(C) [hPa]\", pst)"
   ]
  },
  {
   "cell_type": "markdown",
   "id": "5183f19c-7afe-42d7-b0aa-105831f340ca",
   "metadata": {},
   "source": [
    "## Wind <a class=\"anchor\" id=\"wind\"></a>"
   ]
  },
  {
   "cell_type": "markdown",
   "id": "336bcff1-73c9-403a-a439-889cc903b339",
   "metadata": {},
   "source": [
    "### Wind Direction <a class=\"anchor\" id=\"wind_direction\"></a>"
   ]
  },
  {
   "cell_type": "code",
   "execution_count": null,
   "id": "82d47a6e-d239-462f-ab48-4f90fb1063a3",
   "metadata": {},
   "outputs": [],
   "source": [
    "wd_winds = []\n",
    "for i in asc.columns:\n",
    "    if i.startswith('WD') | i.startswith('IWD'):\n",
    "        wd_winds.append(i)\n",
    "asc[wd_winds].describe()"
   ]
  },
  {
   "cell_type": "code",
   "execution_count": null,
   "id": "cea1dffb-e3d4-41df-b292-650f89a23179",
   "metadata": {
    "scrolled": true
   },
   "outputs": [],
   "source": [
    "timeseries_plot(\"Wind Direction\", \"Wind Speed [m/s]\", wd_winds)"
   ]
  },
  {
   "cell_type": "markdown",
   "id": "71623e7a-7d5b-455f-8c92-b88546b520e4",
   "metadata": {},
   "source": [
    "### Wind Speed <a class=\"anchor\" id=\"wind_speed\"></a>"
   ]
  },
  {
   "cell_type": "code",
   "execution_count": null,
   "id": "448d9bd1-8e21-4fbc-9c91-a6a9b3cd5280",
   "metadata": {},
   "outputs": [],
   "source": [
    "ws_winds = []\n",
    "for i in asc.columns:\n",
    "    if i.startswith('WS') | i.startswith('IWS'):\n",
    "        ws_winds.append(i)\n",
    "asc[ws_winds].describe()"
   ]
  },
  {
   "cell_type": "code",
   "execution_count": null,
   "id": "a86ee17c-4d14-441f-bcb9-ad75023362cd",
   "metadata": {
    "jupyter": {
     "source_hidden": true
    }
   },
   "outputs": [],
   "source": [
    "timeseries_plot(\"Wind Speed\", \"Wind Speed [m/s]\", ws_winds)"
   ]
  },
  {
   "cell_type": "code",
   "execution_count": null,
   "id": "c81079bd-8965-40f3-abe7-8139e39db15f",
   "metadata": {},
   "outputs": [],
   "source": [
    "wi_winds = []\n",
    "for i in asc.columns:\n",
    "    if i.startswith('WIX') | i.startswith('WIC') | i.startswith('WIY'):\n",
    "        wi_winds.append(i)\n",
    "asc[wi_winds].describe()"
   ]
  },
  {
   "cell_type": "code",
   "execution_count": null,
   "id": "ca1e0f0f-f661-4910-9811-d89f52651162",
   "metadata": {},
   "outputs": [],
   "source": [
    "colors = itertools.cycle(Category10[8])\n",
    "plot = figure(width=1200, height=400, title=\"Vertical Wind Speed\") \n",
    "plot.add_layout(Title(text=\"Time [UTC]\", align=\"center\"), \"below\")\n",
    "plot.add_layout(Title(text=\"Vertical Wind [m/s]\", align=\"center\"), \"left\")\n",
    "for i in asc[wi_winds].columns:\n",
    "    try:\n",
    "        plot.line(dtime, asc[wi_winds][i], color=next(colors), legend_label=i)\n",
    "        plot.xaxis.formatter=DatetimeTickFormatter(hourmin = ['%H:%M'])\n",
    "        plot.line(dtime, 2.5, color = 'black', line_dash=\"4 4\", line_width=2)\n",
    "        plot.line(dtime, -2.5, color = 'black', line_dash=\"4 4\", line_width=2)\n",
    "        plot.line(dtime, 0, color = 'red', line_dash=\"4 4\", line_width=2)\n",
    "    except:\n",
    "        pass\n",
    "try:\n",
    "    plot.legend.location = \"top_left\"\n",
    "    show(plot)\n",
    "except:\n",
    "    pass"
   ]
  },
  {
   "cell_type": "code",
   "execution_count": null,
   "id": "e1bc4cbc-7878-43bf-8dbd-5b638e72196a",
   "metadata": {},
   "outputs": [],
   "source": [
    "east_wind = []\n",
    "for i in asc.columns:\n",
    "    if i.startswith('UIC') | i.startswith('IUX'):\n",
    "        east_wind.append(i)\n",
    "try:\n",
    "    asc[east_wind].describe()\n",
    "except:\n",
    "    pass"
   ]
  },
  {
   "cell_type": "code",
   "execution_count": null,
   "id": "ff2ce448-7196-450a-b7f7-f60b15f0bbe5",
   "metadata": {},
   "outputs": [],
   "source": [
    "north_wind = []\n",
    "for i in asc.columns:\n",
    "    if i.startswith('VIC') | i.startswith('IVY'):\n",
    "        north_wind.append(i)\n",
    "asc[north_wind].describe()"
   ]
  },
  {
   "cell_type": "code",
   "execution_count": null,
   "id": "3df00908-8c6d-4542-9c4a-b4aacab1fb30",
   "metadata": {},
   "outputs": [],
   "source": [
    "timeseries_plot(\"East Wind Speed\", \"East Wind Speed [m/s]\", east_wind)\n",
    "timeseries_plot(\"North Wind Speed\", \"North Wind Speed [m/s]\", north_wind)"
   ]
  },
  {
   "cell_type": "markdown",
   "id": "e0bb7dac-3695-40eb-a640-a0a37dca2286",
   "metadata": {},
   "source": [
    "## Schuler Oscillation <a class=\"anchor\" id=\"schuler_oscillation\"></a>"
   ]
  },
  {
   "cell_type": "code",
   "execution_count": null,
   "id": "2137e9dd-74e4-42bb-ac29-f60d55eef798",
   "metadata": {},
   "outputs": [],
   "source": [
    "colors = itertools.cycle(Category10[8])\n",
    "plot = figure(width=1200, height=400, title=\"IRU Schuler oscillation, east west component \") \n",
    "plot.add_layout(Title(text=\"Time [UTC]\", align=\"center\"), \"below\")\n",
    "plot.add_layout(Title(text=\"GGVEW [m/s]\", align=\"center\"), \"left\")\n",
    "try:\n",
    "    plot.line(dtime, asc[\"GGVEW\"], color=next(colors), legend_label=\"GGVEW\")\n",
    "except:\n",
    "    pass\n",
    "try:\n",
    "    plot.line(dtime, asc[\"VEW\"], color=next(colors), legend_label=\"VEW\")\n",
    "except:\n",
    "    pass  \n",
    "\n",
    "try:\n",
    "    plot.line(dtime, (asc[\"GGVEW\"] - asc[\"VEW\"]) *50, color=next(colors), legend_label=\"Difference * 50\")\n",
    "    plot.xaxis.formatter=DatetimeTickFormatter(hourmin = ['%H:%M'])\n",
    "except:\n",
    "    pass\n",
    "try:\n",
    "    plot.legend.location = \"top_left\"\n",
    "    show(plot)\n",
    "except:\n",
    "    pass\n",
    "\n",
    "colors = itertools.cycle(Category10[8])\n",
    "plot = figure(width=1200, height=400, title=\"IRU Schuler oscillation, north south component \") \n",
    "plot.add_layout(Title(text=\"Time [UTC]\", align=\"center\"), \"below\")\n",
    "plot.add_layout(Title(text=\"GGVNS [m/s]\", align=\"center\"), \"left\")\n",
    "try:\n",
    "    plot.line(dtime, asc[\"GGVNS\"], color=next(colors), legend_label=\"GGVEW\")\n",
    "except:\n",
    "    pass\n",
    "try:\n",
    "    plot.line(dtime, asc[\"VNS\"], color=next(colors), legend_label=\"VEW\")\n",
    "except:\n",
    "    pass \n",
    "try:\n",
    "    plot.line(dtime, (asc[\"GGVNS\"] - asc[\"VNS\"]) *50, color=next(colors), legend_label=\"Difference * 50\")\n",
    "    plot.xaxis.formatter=DatetimeTickFormatter(hourmin = ['%H:%M'])\n",
    "except:\n",
    "    pass \n",
    "try:\n",
    "    plot.legend.location = \"top_left\"\n",
    "    show(plot)\n",
    "except:\n",
    "    pass"
   ]
  },
  {
   "cell_type": "markdown",
   "id": "a8e5791f-d70e-4aba-a907-1d9b9926d03c",
   "metadata": {},
   "source": [
    "## Radome Pressures and Angles <a class=\"anchor\" id=\"radome\"></a>"
   ]
  },
  {
   "cell_type": "code",
   "execution_count": null,
   "id": "9258c423-8dfe-40bd-b7f0-2e722cce7268",
   "metadata": {},
   "outputs": [],
   "source": [
    "radome_angles = []\n",
    "for i in asc.columns:\n",
    "    if i.startswith('AKRD') | i.startswith('PITCH') | i.startswith('AOAREF'):\n",
    "        radome_angles.append(i)\n",
    "asc[radome_angles].describe()"
   ]
  },
  {
   "cell_type": "code",
   "execution_count": null,
   "id": "eb079000-a763-4be1-a080-974bc7ed7725",
   "metadata": {},
   "outputs": [],
   "source": [
    "timeseries_plot(\"Radome Angles\", \"Angle [Degrees]\", radome_angles)\n",
    "\n",
    "colors = itertools.cycle(Category10[8])\n",
    "plot = figure(width=1200, height=400, title=\"\") \n",
    "plot.add_layout(Title(text=\"Time [UTC]\", align=\"center\"), \"below\")\n",
    "plot.add_layout(Title(text=\"SSRD [Degrees]\", align=\"center\"), \"left\")\n",
    "try:\n",
    "    plot.line(dtime, asc[\"SSRD\"], color=next(colors), legend_label=\"SSRD\")\n",
    "except:\n",
    "    pass\n",
    "try:\n",
    "    plot.line(dtime, asc[\"SSREF\"], color=next(colors), legend_label=\"SSREF\")\n",
    "except:\n",
    "    pass\n",
    "try:\n",
    "    plot.legend.location = \"top_left\"\n",
    "    plot.xaxis.formatter=DatetimeTickFormatter(hourmin = ['%H:%M'])\n",
    "    plot.line(dtime, 2.0, color = 'black', line_dash=\"4 4\", line_width=2)\n",
    "    plot.line(dtime, -2.0, color = 'black', line_dash=\"4 4\", line_width=2)\n",
    "    show(plot)\n",
    "except:\n",
    "    pass\n",
    "    \n",
    "colors = itertools.cycle(Category10[8])\n",
    "plot = figure(width=1200, height=400, title=\"\") \n",
    "plot.add_layout(Title(text=\"Time [UTC]\", align=\"center\"), \"below\")\n",
    "plot.add_layout(Title(text=\"ADIFR [hPa]\", align=\"center\"), \"left\")\n",
    "try:\n",
    "    plot.line(dtime, asc[\"ADIFR\"], color=next(colors), legend_label=\"ADIFR\")\n",
    "    plot.xaxis.formatter=DatetimeTickFormatter(hourmin = ['%H:%M'])\n",
    "except:\n",
    "    pass\n",
    "try:\n",
    "    plot.legend.location = \"top_left\"\n",
    "    show(plot)\n",
    "except:\n",
    "    pass\n",
    "    \n",
    "colors = itertools.cycle(Category10[8])\n",
    "plot = figure(width=1200, height=400, title=\"\") \n",
    "plot.add_layout(Title(text=\"Time [UTC]\", align=\"center\"), \"below\")\n",
    "plot.add_layout(Title(text=\"BDIFR [hPa]\", align=\"center\"), \"left\")\n",
    "try:\n",
    "    plot.line(dtime, asc[\"BDIFR\"], color=next(colors), legend_label=\"BDIFR\")\n",
    "    plot.xaxis.formatter=DatetimeTickFormatter(hourmin = ['%H:%M'])\n",
    "except:\n",
    "    pass\n",
    "try:\n",
    "    plot.legend.location = \"top_left\"\n",
    "    show(plot)\n",
    "except:\n",
    "    pass"
   ]
  },
  {
   "cell_type": "markdown",
   "id": "68a37e66-c9a7-4b63-aca1-75b70bd9d81e",
   "metadata": {},
   "source": [
    "## Pitch Roll Heading <a class=\"anchor\" id=\"pitch_roll_heading\"></a>"
   ]
  },
  {
   "cell_type": "markdown",
   "id": "1c6e2e66-00c4-4be3-9a72-293ba40d3d13",
   "metadata": {},
   "source": [
    "### Pitch <a class=\"anchor\" id=\"pitch\"></a>"
   ]
  },
  {
   "cell_type": "code",
   "execution_count": null,
   "id": "97f63f5d-a557-46f5-be6c-fa5bf86fe1e7",
   "metadata": {},
   "outputs": [],
   "source": [
    "pitch = []\n",
    "for i in asc.columns:\n",
    "    if i.startswith('PITCH'):\n",
    "        pitch.append(i)\n",
    "asc[pitch].describe()"
   ]
  },
  {
   "cell_type": "code",
   "execution_count": null,
   "id": "dbcce933-6c08-4f49-80d8-a55684de0e32",
   "metadata": {},
   "outputs": [],
   "source": [
    "colors = itertools.cycle(Category10[8])\n",
    "plot = figure(width=1200, height=400, title=\"Pitch\") \n",
    "plot.add_layout(Title(text=\"Time [UTC]\", align=\"center\"), \"below\")\n",
    "plot.add_layout(Title(text=\"PITCH [Degrees]\", align=\"center\"), \"left\")\n",
    "for i in asc[pitch].columns:\n",
    "    try:\n",
    "        plot.line(dtime, asc[pitch][i], color=next(colors), legend_label=i)\n",
    "    except:\n",
    "        pass\n",
    "    try:\n",
    "        plot.line(dtime, (asc[pitch]['PITCH'] - asc[pitch]['PITCH_IRS2']) * 50, color=next(colors), legend_label=\"PITCH - PITCH_IRS2 Difference * 50\")\n",
    "    except Exception as e:\n",
    "        pass\n",
    "    try:\n",
    "        plot.line(dtime, (asc[pitch]['PITCH'] - asc[pitch]['PITCH_IRS3']) * 50, color=next(colors), legend_label=\"PITCH - PITCH_IRS3 Difference * 50\")\n",
    "    except Exception as e:\n",
    "        pass\n",
    "    try:\n",
    "        plot.xaxis.formatter=DatetimeTickFormatter(hourmin = ['%H:%M'])\n",
    "    except:\n",
    "        pass\n",
    "\n",
    "try:\n",
    "    plot.legend.location = \"top_left\"\n",
    "    show(plot)\n",
    "except:\n",
    "    pass"
   ]
  },
  {
   "cell_type": "markdown",
   "id": "88952e43-5720-4fd5-81e8-de00e676fbee",
   "metadata": {},
   "source": [
    "### Roll <a class=\"anchor\" id=\"roll\"></a>"
   ]
  },
  {
   "cell_type": "code",
   "execution_count": null,
   "id": "227466cb-9376-4dbd-acb8-8f59dec2f8cb",
   "metadata": {},
   "outputs": [],
   "source": [
    "roll = []\n",
    "for i in asc.columns:\n",
    "    if i.startswith('ROLL'):\n",
    "        roll.append(i)\n",
    "try:\n",
    "    asc[roll].describe()\n",
    "except:\n",
    "    pass"
   ]
  },
  {
   "cell_type": "code",
   "execution_count": null,
   "id": "45f48cd5-cd74-4216-8e0d-2c7bffb95e72",
   "metadata": {},
   "outputs": [],
   "source": [
    "colors = itertools.cycle(Category10[8])\n",
    "plot = figure(width=1200, height=400, title=\"Roll\") \n",
    "plot.add_layout(Title(text=\"Time [UTC]\", align=\"center\"), \"below\")\n",
    "plot.add_layout(Title(text=\"PITCH [Degrees]\", align=\"center\"), \"left\")\n",
    "for i in asc[roll].columns:\n",
    "    try:\n",
    "        plot.line(dtime, asc[roll][i], color=next(colors), legend_label=i)\n",
    "    except:\n",
    "        pass\n",
    "    try:\n",
    "        plot.line(dtime, (asc[roll]['ROLL'] - asc[roll]['ROLL_IRS2']) * 500, color=next(colors), legend_label=\"ROLL - ROLL_IRS2 Difference * 500\")\n",
    "    except:\n",
    "        pass\n",
    "    try:\n",
    "        plot.line(dtime, (asc[roll]['ROLL'] - asc[roll]['ROLL_IRS3']) * 500, color=next(colors), legend_label=\"ROLL - ROLL_IRS3 Difference * 500\")\n",
    "    except:\n",
    "        pass\n",
    "    try:\n",
    "        plot.xaxis.formatter=DatetimeTickFormatter(hourmin = ['%H:%M'])\n",
    "    except:\n",
    "        pass\n",
    "try:\n",
    "    plot.legend.location = \"top_left\"\n",
    "    show(plot)\n",
    "except:\n",
    "    pass"
   ]
  },
  {
   "cell_type": "markdown",
   "id": "252a2643-2dcd-4544-ac82-90fc5c3f8b38",
   "metadata": {},
   "source": [
    "### Heading <a class=\"anchor\" id=\"heading\"></a>"
   ]
  },
  {
   "cell_type": "code",
   "execution_count": null,
   "id": "8dc418ca-2d8b-4eb9-8ada-0563bf17b24a",
   "metadata": {},
   "outputs": [],
   "source": [
    "thdg = []\n",
    "for i in asc.columns:\n",
    "    if i.startswith('THDG'):\n",
    "        thdg.append(i)\n",
    "asc[thdg].describe()"
   ]
  },
  {
   "cell_type": "code",
   "execution_count": null,
   "id": "26408480-d767-4e14-863a-0a3718847ccd",
   "metadata": {},
   "outputs": [],
   "source": [
    "colors = itertools.cycle(Category10[8])\n",
    "plot = figure(width=1200, height=400, title=\"True Heading\") \n",
    "plot.add_layout(Title(text=\"Time [UTC]\", align=\"center\"), \"below\")\n",
    "plot.add_layout(Title(text=\"THDG [degrees]\", align=\"center\"), \"left\")\n",
    "\n",
    "for i in asc[thdg].columns:\n",
    "    try:\n",
    "        plot.line(dtime, asc[thdg][i], color=next(colors), legend_label=i)\n",
    "        plot.xaxis.formatter=DatetimeTickFormatter(hourmin = ['%H:%M'])\n",
    "    except:\n",
    "        pass\n",
    "try:\n",
    "    plot.legend.location = \"top_left\"\n",
    "    show(plot)\n",
    "except:\n",
    "    pass  "
   ]
  },
  {
   "cell_type": "markdown",
   "id": "24eaa853-2d30-4d11-a62b-6c000c1f9663",
   "metadata": {},
   "source": [
    "## ACINS VSPD Altitude <a class=\"anchor\" id=\"acins_vspd_altitude\"></a>"
   ]
  },
  {
   "cell_type": "markdown",
   "id": "72c9687a-f920-4558-b857-1028bcd2f5fa",
   "metadata": {},
   "source": [
    "### ACINS <a class=\"anchor\" id=\"acins\"></a>"
   ]
  },
  {
   "cell_type": "code",
   "execution_count": null,
   "id": "897395ed-b38c-42d4-b4ec-33ca9029870a",
   "metadata": {},
   "outputs": [],
   "source": [
    "acins = []\n",
    "for i in asc.columns:\n",
    "    if i.startswith('ACINS'):\n",
    "        acins.append(i)\n",
    "\n",
    "asc[acins].describe()"
   ]
  },
  {
   "cell_type": "code",
   "execution_count": null,
   "id": "ed686112-e9c1-4116-9bd7-63a8845bd4e2",
   "metadata": {},
   "outputs": [],
   "source": [
    "colors = itertools.cycle(Category10[8])\n",
    "plot = figure(width=1200, height=400, title=\"ACINS\") \n",
    "plot.add_layout(Title(text=\"Time [UTC]\", align=\"center\"), \"below\")\n",
    "plot.add_layout(Title(text=\"ACINS [m/s^2]\", align=\"center\"), \"left\")\n",
    "\n",
    "for i in asc[acins].columns:\n",
    "    try:\n",
    "        plot.line(dtime, asc[acins][i], color=next(colors), legend_label=i)\n",
    "        plot.xaxis.formatter=DatetimeTickFormatter(hourmin = ['%H:%M'])\n",
    "    except:\n",
    "        pass\n",
    "try:\n",
    "    plot.legend.location = \"top_left\"\n",
    "    show(plot)\n",
    "except:\n",
    "    pass  "
   ]
  },
  {
   "cell_type": "markdown",
   "id": "1c784659-1d1f-47e8-b837-ec0ceb0d04b8",
   "metadata": {},
   "source": [
    "### VSPD <a class=\"anchor\" id=\"vspd\"></a>"
   ]
  },
  {
   "cell_type": "code",
   "execution_count": null,
   "id": "60a11056-9ff5-4fc6-8cb3-a7576dd8b2fd",
   "metadata": {},
   "outputs": [],
   "source": [
    "vspd = []\n",
    "for i in asc.columns:\n",
    "    if i.startswith('VSPD'):\n",
    "        vspd.append(i)\n",
    "try:\n",
    "    asc[vspd].describe()\n",
    "except:\n",
    "    pass"
   ]
  },
  {
   "cell_type": "code",
   "execution_count": null,
   "id": "cda35e28-08ae-491a-b96c-91df0350180d",
   "metadata": {},
   "outputs": [],
   "source": [
    "colors = itertools.cycle(Category10[8])\n",
    "plot = figure(width=1200, height=400, title=\"VSPD\") \n",
    "plot.add_layout(Title(text=\"Time [UTC]\", align=\"center\"), \"below\")\n",
    "plot.add_layout(Title(text=\"VSPD\", align=\"center\"), \"left\")\n",
    "\n",
    "for i in asc[vspd].columns:\n",
    "    try:\n",
    "        plot.line(dtime, asc[vspd][i], color=next(colors), legend_label=i)\n",
    "        plot.xaxis.formatter=DatetimeTickFormatter(hourmin = ['%H:%M'])\n",
    "    except:\n",
    "        pass\n",
    "try:\n",
    "    plot.legend.location = \"top_left\"\n",
    "    show(plot)\n",
    "except:\n",
    "    pass"
   ]
  },
  {
   "cell_type": "markdown",
   "id": "c56da230-db0a-4492-b28b-77ce66144fea",
   "metadata": {},
   "source": [
    "### Altitude <a class=\"anchor\" id=\"altitude\"></a>"
   ]
  },
  {
   "cell_type": "code",
   "execution_count": null,
   "id": "d2ae17da-2c35-473e-a847-fe3585162f25",
   "metadata": {},
   "outputs": [],
   "source": [
    "alt = []\n",
    "for i in asc.columns:\n",
    "    if i.startswith('GGALT') | i.startswith('ALT_'):\n",
    "        alt.append(i)\n",
    "try:\n",
    "    alt.remove('GGALTSD_232')\n",
    "except:\n",
    "    pass\n",
    "try:\n",
    "    alt.remove('GGALTSD')\n",
    "except:\n",
    "    pass\n",
    "try:\n",
    "    alt.remove('GGALTSD_VTB')\n",
    "except:\n",
    "    pass\n",
    "try:\n",
    "    alt.remove('GGALTSD_VTB2')\n",
    "except:\n",
    "    pass\n",
    "asc[alt].describe()"
   ]
  },
  {
   "cell_type": "code",
   "execution_count": null,
   "id": "497b13f3-c552-45ec-a7f6-883d47286f87",
   "metadata": {},
   "outputs": [],
   "source": [
    "colors = itertools.cycle(Category10[8])\n",
    "plot = figure(width=1200, height=400, title=\"Altitude\") \n",
    "plot.add_layout(Title(text=\"Time [UTC]\", align=\"center\"), \"below\")\n",
    "plot.add_layout(Title(text=\"Altitude (ALT) [m]\", align=\"center\"), \"left\")\n",
    "\n",
    "for i in asc[alt].columns:\n",
    "    try:\n",
    "        plot.line(dtime, asc[alt][i], color=next(colors), legend_label=i)\n",
    "        plot.xaxis.formatter=DatetimeTickFormatter(hourmin = ['%H:%M'])\n",
    "    except:\n",
    "        pass\n",
    "try:\n",
    "    plot.legend.location = \"top_left\"\n",
    "    show(plot)\n",
    "except:\n",
    "    pass"
   ]
  },
  {
   "cell_type": "markdown",
   "id": "05a1b140-3d0e-4499-80df-42f44250dbb4",
   "metadata": {},
   "source": [
    "## Concentrations <a class=\"anchor\" id=\"concentrations\"></a>"
   ]
  },
  {
   "cell_type": "code",
   "execution_count": null,
   "id": "6e87899b-fb44-48b8-b834-42d2eb2c780a",
   "metadata": {},
   "outputs": [],
   "source": [
    "conc = []\n",
    "for i in asc.columns:\n",
    "    if i.startswith('CONCN') | i.startswith('CONCP') | i.startswith('CONCD') | i.startswith('CONC1DC'):\n",
    "        conc.append(i)\n",
    "try:\n",
    "    conc.remove('CONCN')\n",
    "except:\n",
    "    pass\n",
    "asc[conc].describe()"
   ]
  },
  {
   "cell_type": "code",
   "execution_count": null,
   "id": "fcb7898e-3cc9-4357-8d1a-1771e7e9ca07",
   "metadata": {},
   "outputs": [],
   "source": [
    "try:\n",
    "    colors = itertools.cycle(Category10[8])\n",
    "    plot = figure(width=1200, height=400, title=\"Concentrations\") \n",
    "    plot.add_layout(Title(text=\"Time [UTC]\", align=\"center\"), \"below\")\n",
    "    plot.add_layout(Title(text=\"CONCy [cm-3]\", align=\"center\"), \"left\")\n",
    "\n",
    "    for i in asc[conc].columns:\n",
    "        try:\n",
    "            plot.line(dtime, asc[conc][i], color=next(colors), legend_label=i)\n",
    "            plot.xaxis.formatter=DatetimeTickFormatter(hourmin = ['%H:%M'])\n",
    "        except:\n",
    "            pass\n",
    "    try:\n",
    "        plot.legend.location = \"top_left\"\n",
    "        show(plot)\n",
    "    except:\n",
    "        pass  \n",
    "\n",
    "except:\n",
    "    pass\n",
    "\n",
    "try:\n",
    "    colors = itertools.cycle(Category10[8])\n",
    "    plot = figure(width=1200, height=400, title=\"CONCN\") \n",
    "    plot.add_layout(Title(text=\"Time [UTC]\", align=\"center\"), \"below\")\n",
    "    plot.add_layout(Title(text=\"CONCN [cm-3]\", align=\"center\"), \"left\")\n",
    "\n",
    "    try:\n",
    "        plot.line(dtime, asc['CONCN'], color=next(colors), legend_label='CONCN')\n",
    "    except:\n",
    "        pass\n",
    "    try:\n",
    "        plot.line(dtime, asc['CONCU'], color=next(colors), legend_label='CONCU')\n",
    "    except:\n",
    "        pass\n",
    "    try:\n",
    "        plot.legend.location = \"top_left\"\n",
    "    except:\n",
    "        pass  \n",
    "    plot.xaxis.formatter=DatetimeTickFormatter(hourmin = ['%H:%M'])\n",
    "    show(plot)\n",
    "except:\n",
    "    pass"
   ]
  },
  {
   "cell_type": "markdown",
   "id": "ba4fc22e-834d-46ca-b60e-26a6d482f642",
   "metadata": {},
   "source": [
    "## Liquid Water <a class=\"anchor\" id=\"liquid_water\"></a>"
   ]
  },
  {
   "cell_type": "code",
   "execution_count": null,
   "id": "f43b6e5b-0509-4adb-93bb-f4c3037292e6",
   "metadata": {},
   "outputs": [],
   "source": [
    "liquid_water = []\n",
    "for i in asc.columns:\n",
    "    if i.startswith('PLWC') | i.startswith('RICE'):\n",
    "        liquid_water.append(i)\n",
    "asc[liquid_water].describe()\n"
   ]
  },
  {
   "cell_type": "code",
   "execution_count": null,
   "id": "92c61822-6328-4b79-8b2c-5f5947114c74",
   "metadata": {},
   "outputs": [],
   "source": [
    "timeseries_plot(\"Liquid Water\", \"PLWCy []\", liquid_water)"
   ]
  },
  {
   "cell_type": "markdown",
   "id": "ab875dd5-f5a4-4298-87ee-a14a2d6e3978",
   "metadata": {},
   "source": [
    "## Skew-T Plot <a class=\"anchor\" id=\"skewt\"></a>"
   ]
  },
  {
   "cell_type": "code",
   "execution_count": null,
   "id": "5fa0a4b1-162b-41da-81af-5aca3b802066",
   "metadata": {},
   "outputs": [],
   "source": [
    "fig = plt.figure(figsize=(11, 13))\n",
    "p = asc['PSXC']\n",
    "T = asc['ATX']\n",
    "try:\n",
    "    Td = asc['DP_DPL']\n",
    "except:\n",
    "    Td = asc['DP_DPT']\n",
    "skew = SkewT(fig, rotation=45)\n",
    "\n",
    "# Plot the data using normal plotting functions, in this case using\n",
    "# log scaling in Y, as dictated by the typical meteorological plot\n",
    "try:\n",
    "    skew.plot(p, T, 'r', label='T')\n",
    "    skew.plot(p, Td, 'g', label='Td')\n",
    "    # Set some better labels than the default\n",
    "except:\n",
    "    pass\n",
    "\n",
    "try:\n",
    "    skew.ax.set_xlabel('Temperature or Dew Point [\\N{DEGREE CELSIUS}]')\n",
    "    skew.ax.set_ylabel('Pressure [hPa]')\n",
    "except:\n",
    "    pass\n",
    "# Add the relevant special lines\n",
    "try:\n",
    "    skew.plot_dry_adiabats()\n",
    "    skew.plot_moist_adiabats()\n",
    "    skew.plot_mixing_lines()\n",
    "    skew.ax.set_ylim(1000, 100)\n",
    "    skew.ax.set_xlim(-60, 30)\n",
    "    skew.ax.legend()\n",
    "    plt.show()\n",
    "except:\n",
    "    pass"
   ]
  },
  {
   "cell_type": "markdown",
   "id": "218fda86-521d-4450-beab-b4201a8f38c8",
   "metadata": {},
   "source": [
    "## Potential Temperature <a class=\"anchor\" id=\"potential_temperature\"></a>"
   ]
  },
  {
   "cell_type": "code",
   "execution_count": null,
   "id": "43aa7826-1c85-4d7a-99fb-a0108c0241d6",
   "metadata": {
    "jupyter": {
     "source_hidden": true
    }
   },
   "outputs": [],
   "source": [
    "theta = []\n",
    "for i in asc.columns:\n",
    "    if i.startswith('THETA'):\n",
    "        theta.append(i)\n",
    "\n",
    "asc[theta].describe()"
   ]
  },
  {
   "cell_type": "code",
   "execution_count": null,
   "id": "b95bc827-a497-4abd-b639-d6baafbc0abd",
   "metadata": {},
   "outputs": [],
   "source": [
    "timeseries_plot(\"Potential Temperature\", \"THETA [K]\", theta)\n",
    "\n",
    "colors = itertools.cycle(Category10[8])\n",
    "plot = figure(width=1200, height=800, title=\"\") \n",
    "plot.add_layout(Title(text=\"Potential Temperature [K]\", align=\"center\"), \"below\")\n",
    "plot.add_layout(Title(text=\"Pressure [hPa]\", align=\"center\"), \"left\")\n",
    "\n",
    "for i in asc[theta].columns:\n",
    "    try:\n",
    "        plot.line(asc[theta][i], asc['PSXC'], color=next(colors), legend_label=i)\n",
    "    except Exception as e:\n",
    "        print(e)\n",
    "try:\n",
    "    plot.legend.location = \"top_left\"\n",
    "except Exception as e:\n",
    "    print(e)  \n",
    "plot.y_range.flipped = True\n",
    "show(plot)"
   ]
  },
  {
   "cell_type": "markdown",
   "id": "59a54c28-d62c-4ec1-a6e8-f2784b98364c",
   "metadata": {},
   "source": [
    "## Chemistry <a class=\"anchor\" id=\"chemistry\"></a>"
   ]
  },
  {
   "cell_type": "code",
   "execution_count": null,
   "id": "4d0fce31-40f3-47c0-8229-5c9d6ffec4f1",
   "metadata": {},
   "outputs": [],
   "source": [
    "try:\n",
    "    colors = itertools.cycle(Category10[8])\n",
    "    plot = figure(width=1200, height=400, title=\"Carbon Dioxide\") \n",
    "    plot.add_layout(Title(text=\"ppmv\", align=\"center\"), \"left\")\n",
    "\n",
    "    try:\n",
    "        plot.line(dtime, asc['CO2C_PIC2401'], color=next(colors), legend_label='CO2C_PIC2401')\n",
    "    except Exception as e:\n",
    "        pass\n",
    "    try:\n",
    "        plot.line(dtime, asc['CO2_PIC2401'], color=next(colors), legend_label='CO2_PIC2401')\n",
    "        plot.xaxis.formatter=DatetimeTickFormatter(hourmin = ['%H:%M'])\n",
    "    except Exception as e:\n",
    "        pass\n",
    "    try:\n",
    "        plot.legend.location = \"top_left\"\n",
    "    except Exception as e:\n",
    "        pass  \n",
    "    show(plot)\n",
    "    colors = itertools.cycle(Category10[8])\n",
    "    plot = figure(width=1200, height=400, title=\"Methane\") \n",
    "    plot.add_layout(Title(text=\"ppmv\", align=\"center\"), \"left\")\n",
    "\n",
    "    try:\n",
    "        plot.line(dtime, asc['CH4C_PIC2401'], color=next(colors), legend_label='CH4C_PIC2401')\n",
    "    except Exception as e:\n",
    "        pass\n",
    "    try:\n",
    "        plot.line(dtime, asc['CH4_PIC2401'], color=next(colors), legend_label='CH4_PIC2401')\n",
    "        plot.xaxis.formatter=DatetimeTickFormatter(hourmin = ['%H:%M'])\n",
    "    except Exception as e:\n",
    "        pass\n",
    "    try:\n",
    "        plot.legend.location = \"top_left\"\n",
    "    except Exception as e:\n",
    "        pass  \n",
    "    show(plot)\n",
    "    \n",
    "    colors = itertools.cycle(Category10[8])\n",
    "    plot = figure(width=1200, height=400, title=\"Carbon Monixide and Fast Ozone (if available, scaled / 1000)\") \n",
    "    plot.add_layout(Title(text=\"Time [UTC]\", align=\"center\"), \"below\")\n",
    "    plot.add_layout(Title(text=\"ppb\", align=\"center\"), \"left\")\n",
    "    try:\n",
    "        plot.line(dtime, asc['CO_PIC2401'], color=next(colors), legend_label='CO_PIC2401')\n",
    "    except Exception as e:\n",
    "        pass\n",
    "    try:\n",
    "        plot.line(dtime, asc['CO_ARI']/1000, color=next(colors), legend_label='CO_ARI')\n",
    "        plot.xaxis.formatter=DatetimeTickFormatter(hourmin = ['%H:%M'])\n",
    "    except Exception as e:\n",
    "        pass\n",
    "    try:\n",
    "        plot.legend.location = \"top_left\"\n",
    "    except:\n",
    "        pass  \n",
    "    show(plot)\n",
    "except:\n",
    "    pass"
   ]
  },
  {
   "cell_type": "markdown",
   "id": "518a25a5-aad0-413b-8cdc-eb4e66aa343e",
   "metadata": {},
   "source": [
    "## Aerosol and Cloud Probe Histogram Data <a class=\"anchor\" id=\"histogram\"></a>"
   ]
  },
  {
   "cell_type": "code",
   "execution_count": null,
   "id": "e89ddd5d-05f7-4faf-bdda-652353dadfc0",
   "metadata": {},
   "outputs": [],
   "source": [
    "# create lists of the histogram variables\n",
    "try:\n",
    "    histovar_list = list(histo_asc.columns.levels[0])\n",
    "    histovar_list = [var for var in histovar_list if not var.endswith('VXL')]\n",
    "    histobin_list = []\n",
    "except:\n",
    "    pass\n",
    "\n",
    "# loop over the length of the histogram variable list\n",
    "try:\n",
    "    for i in range(len(histovar_list)):\n",
    "        histobin_list.append(max(list(histo_asc[histovar_list[i]]))+1)\n",
    "except:\n",
    "    pass\n",
    "\n",
    "# create list of histogram units\n",
    "try:\n",
    "    histo_units = []\n",
    "    for i in histovar_list:\n",
    "        histo_units.append(nc.variables[i].getncattr('units'))\n",
    "except:\n",
    "    pass"
   ]
  },
  {
   "cell_type": "code",
   "execution_count": null,
   "id": "cfb383b5-3a7b-463d-af5b-b6d00fb70c9b",
   "metadata": {},
   "outputs": [],
   "source": [
    "try:\n",
    "    if interactive_histogram == True:\n",
    "        x_width = 1200\n",
    "        y_height = 400\n",
    "\n",
    "        heatmap_data_list = []\n",
    "        for i in histovar_list: \n",
    "            data = histo_asc[i].abs()\n",
    "            data = data.abs()\n",
    "            data = data.transpose()\n",
    "            data = pd.DataFrame(data)\n",
    "            heatmap_data_list.append(data)\n",
    "        for i, df in enumerate(heatmap_data_list):\n",
    "            try:\n",
    "                max_z = df.to_numpy().max()\n",
    "            except:\n",
    "                max_z = 100\n",
    "            if df.index[0] == 0.0:\n",
    "                min_y = 1\n",
    "                ylab = \"Bin [#]\"\n",
    "            else:\n",
    "                min_y = df.index[0]\n",
    "                ylab = \"Cell Size [um]\"\n",
    "            heatmap = df.hvplot.heatmap(cmap=\"gist_ncar\", width=x_width, height=y_height, ylabel=ylab, xlabel='Time [Seconds]', title=histovar_list[i] + ' Units: ' + histo_units[i], logy=True, logz=True, clim=(0.1, max_z), ylim=(min_y, None))            \n",
    "            bokeh_plot = hv.render(heatmap)\n",
    "            show(bokeh_plot)\n",
    "#        # loop over each histogram variable\n",
    "#        num = 0\n",
    "#        for i in histovar_list:\n",
    "#            try:\n",
    "#                # create the subplot array and size\n",
    "#                fig, ax = plt.subplots(1,1, figsize=(18, 8))\n",
    "#                y_axis_labels = list(histo_asc[i].columns)  # labels for y-axis\n",
    "#                # check to see if Cell Sizes exists (bins always start at 0.0)\n",
    "#                if (list(histo_asc[i].columns)[0] != 0.0) & (i.startswith('I2DC') == False):\n",
    "#                    try:\n",
    "#                        sns.heatmap(histo_asc[i].transpose(), cmap='gist_ncar', cbar_kws={'label': str(histo_units[num])}, norm=LogNorm())\n",
    "#                    except:\n",
    "#                        sns.heatmap(histo_asc[i].transpose(), cmap='gist_ncar', cbar_kws={'label': str(histo_units[num])})\n",
    "#                    sns.heatmap(np.where(histo_asc[i].transpose().isna(), 0, np.nan), cbar=False, fmt=\"\",cmap=ListedColormap(['gray']),linewidth=0)     \n",
    "#                    plt.ylabel('Cell Size [um]')\n",
    "#                    # increment the number counter to index into units list when needed\n",
    "#                    if num < len(histo_units) - 1:\n",
    "#                        num = num + 1\n",
    "#                    else:\n",
    "#                        pass\n",
    "#                else:\n",
    "#                    try:\n",
    "#                        sns.heatmap(histo_asc[i].transpose(), cmap='gist_ncar', cbar_kws={'label': 'Count'}, norm=LogNorm())\n",
    "#                    except:\n",
    "#                        sns.heatmap(histo_asc[i].transpose(), cmap='gist_ncar', cbar_kws={'label': 'Count'})\n",
    "#                    sns.heatmap(np.where(histo_asc[i].transpose().isna(), 0, np.nan),cbar=False,fmt=\"\",cmap=ListedColormap(['gray']),linewidth=0)\n",
    "#                    plt.ylabel('Bin [#]')\n",
    "#\n",
    "#                # check to see if I2DC vars exist, these are inter-arrival times so the y axis label should be Seconds.\n",
    "#                if i.startswith('I2DC'):\n",
    "#                    plt.ylabel('Seconds [#]')\n",
    "#                plt.title(i)\n",
    "#                plt.xlabel('Time [Seconds]')\n",
    "#                plt.xticks(fontsize=9, rotation=75)\n",
    "#                plt.yticks(fontsize=6, rotation=0)\n",
    "#                ax.invert_yaxis()\n",
    "#                plt.box(False)\n",
    "#                plt.yscale('log')\n",
    "#            except Exception as e:\n",
    "#                print(e)\n",
    "#            plt.show()\n",
    "    else:\n",
    "        pass\n",
    "except Exception as e:\n",
    "    print(e)"
   ]
  },
  {
   "cell_type": "code",
   "execution_count": null,
   "id": "8927202d-5846-4b55-b8bb-f38137eed522",
   "metadata": {},
   "outputs": [],
   "source": []
  }
 ],
 "metadata": {
  "kernelspec": {
   "display_name": "Python 3 (ipykernel)",
   "language": "python",
   "name": "python3"
  },
  "language_info": {
   "codemirror_mode": {
    "name": "ipython",
    "version": 3
   },
   "file_extension": ".py",
   "mimetype": "text/x-python",
   "name": "python",
   "nbconvert_exporter": "python",
   "pygments_lexer": "ipython3",
   "version": "3.10.12"
  }
 },
 "nbformat": 4,
 "nbformat_minor": 5
}
