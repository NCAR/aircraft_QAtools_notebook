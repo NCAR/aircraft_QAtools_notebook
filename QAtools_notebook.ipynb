{
 "cells": [
  {
   "cell_type": "markdown",
   "id": "4e873205-2dfc-4ee6-b292-9cd72bd3a748",
   "metadata": {},
   "source": [
    "# QAtools Notebook"
   ]
  },
  {
   "cell_type": "markdown",
   "id": "2ac765dc-36cf-4b3d-8f80-b90ad1741ae4",
   "metadata": {},
   "source": [
    "## Project and Flight Information"
   ]
  },
  {
   "cell_type": "code",
   "execution_count": 2,
   "id": "018bf93b-4f09-4386-b3bf-1576fee3370f",
   "metadata": {},
   "outputs": [],
   "source": [
    "project = 'SPICULE'\n",
    "flight = 'rf12'"
   ]
  },
  {
   "cell_type": "markdown",
   "id": "c67d1360-ab55-4b52-9769-2a0206c46f91",
   "metadata": {},
   "source": [
    "Quick-look plots and statistics from field-phase NCAR/RAF flight netCDF datasets.\n",
    "\n",
    "Assign variables `project` and `flight` and 'Run All Cells'.\n",
    "\n",
    "References:\n",
    "\n",
    "README: \n",
    "\n",
    "NCAR/RAF netCDF Format: https://archive.eol.ucar.edu/raf/software/netCDF.html"
   ]
  },
  {
   "cell_type": "code",
   "execution_count": 3,
   "id": "1460050c-7d5b-442f-9c3c-81255b8c42b8",
   "metadata": {
    "tags": []
   },
   "outputs": [
    {
     "ename": "ModuleNotFoundError",
     "evalue": "No module named 'netCDF4'",
     "output_type": "error",
     "traceback": [
      "\u001b[0;31m---------------------------------------------------------------------------\u001b[0m",
      "\u001b[0;31mModuleNotFoundError\u001b[0m                       Traceback (most recent call last)",
      "\u001b[0;32m<ipython-input-3-19b1574449cd>\u001b[0m in \u001b[0;36m<module>\u001b[0;34m\u001b[0m\n\u001b[0;32m----> 1\u001b[0;31m \u001b[0;32mimport\u001b[0m \u001b[0mnetCDF4\u001b[0m\u001b[0;34m\u001b[0m\u001b[0;34m\u001b[0m\u001b[0m\n\u001b[0m\u001b[1;32m      2\u001b[0m \u001b[0;32mimport\u001b[0m \u001b[0mpandas\u001b[0m \u001b[0;32mas\u001b[0m \u001b[0mpd\u001b[0m\u001b[0;34m\u001b[0m\u001b[0;34m\u001b[0m\u001b[0m\n\u001b[1;32m      3\u001b[0m \u001b[0;32mimport\u001b[0m \u001b[0mnumpy\u001b[0m \u001b[0;32mas\u001b[0m \u001b[0mnp\u001b[0m\u001b[0;34m\u001b[0m\u001b[0;34m\u001b[0m\u001b[0m\n\u001b[1;32m      4\u001b[0m \u001b[0;32mimport\u001b[0m \u001b[0mmatplotlib\u001b[0m\u001b[0;34m.\u001b[0m\u001b[0mpyplot\u001b[0m \u001b[0;32mas\u001b[0m \u001b[0mplt\u001b[0m\u001b[0;34m\u001b[0m\u001b[0;34m\u001b[0m\u001b[0m\n\u001b[1;32m      5\u001b[0m \u001b[0;32mimport\u001b[0m \u001b[0mitertools\u001b[0m\u001b[0;34m\u001b[0m\u001b[0;34m\u001b[0m\u001b[0m\n",
      "\u001b[0;31mModuleNotFoundError\u001b[0m: No module named 'netCDF4'"
     ]
    }
   ],
   "source": [
    "import netCDF4\n",
    "import pandas as pd\n",
    "import numpy as np\n",
    "import matplotlib.pyplot as plt\n",
    "import itertools \n",
    "from bokeh.io import push_notebook, show, output_notebook\n",
    "from bokeh.layouts import row\n",
    "from bokeh.plotting import figure, show\n",
    "from bokeh.models import Title, CustomJS, Select, TextInput, Button, LinearAxis, Range1d\n",
    "from bokeh.palettes import Category10\n",
    "from metpy.plots import SkewT\n",
    "from metpy.units import pandas_dataframe_to_unit_arrays, units\n",
    "from datetime import datetime\n",
    "from IPython.display import display\n",
    "output_notebook()"
   ]
  },
  {
   "cell_type": "code",
   "execution_count": null,
   "id": "d984f479-f676-4c52-93d1-8075f7fb5445",
   "metadata": {},
   "outputs": [],
   "source": [
    "# function definition for creating timeseries plot\n",
    "def timeseries_plot(title, y_label, dataframe):\n",
    "    colors = itertools.cycle(Category10[8])\n",
    "    plot = figure(width=1200, height=400, title=title) \n",
    "    plot.add_layout(Title(text=\"Time [Seconds since Midnight]\", align=\"center\"), \"below\")\n",
    "    plot.add_layout(Title(text=y_label, align=\"center\"), \"left\")\n",
    "    # loop over variables in the pandas dataframe to add to plot\n",
    "    for i in asc[dataframe].columns:\n",
    "        try:\n",
    "            plot.line(asc['Time'], asc[dataframe][i], color=next(colors), legend_label=i)\n",
    "        except Exception as e:\n",
    "            print(e)\n",
    "        try:\n",
    "            plot.legend.location = \"top_left\"\n",
    "        except Exception as e:\n",
    "            print(e)\n",
    "    try:\n",
    "        show(plot)\n",
    "    except Exception as e:\n",
    "        print(e)"
   ]
  },
  {
   "cell_type": "code",
   "execution_count": null,
   "id": "bb9b13dd-e70c-46d0-b177-99f0c5302a9f",
   "metadata": {
    "tags": []
   },
   "outputs": [],
   "source": [
    "filepath = '/scr/raf_data/'\n",
    "input_file = project + flight + '.nc'\n",
    "nc = netCDF4.Dataset(filepath + '/' + project + '/' + input_file, mode='r')\n",
    "\n",
    "asc = {}\n",
    "units = {}\n",
    "# loop over keys in netCDF file and organize\n",
    "for i in nc.variables.keys():\n",
    "    dims = str(nc.variables[i].dimensions)\n",
    "    if dims == \"('Time',)\":\n",
    "        output = nc[i][:]\n",
    "        asc[i] = pd.DataFrame(output)\n",
    "        units_var = nc.variables[i].getncattr('units')\n",
    "        units[i] = pd.Series(units_var)\n",
    "        asc[i].columns = pd.MultiIndex.from_tuples(zip(asc[i].columns, units[i]))\n",
    "    # accommodate histogram data\n",
    "    elif \"sps1\" in dims:\n",
    "        histo_output = pd.DataFrame(nc.variables[i][:, 0, :])\n",
    "        asc[i] = pd.DataFrame(histo_output)\n",
    "        try:\n",
    "            cellsize = nc.variables[i].getncattr('CellSizes')\n",
    "            cellsize[i] = pd.Series(data=cellsize)\n",
    "            asc[i].columns = pd.MultiIndex.from_tuples(zip(asc[i].columns, cellsize[i]))\n",
    "\n",
    "        except:\n",
    "            asc[i].columns = pd.MultiIndex.from_tuples(zip(asc[i].columns, asc[i].columns))\n",
    "    else:\n",
    "        pass\n",
    "\n",
    "# concatenate the pandas dataframe\n",
    "asc = pd.concat(asc, axis=1, ignore_index=False)\n",
    "dtime = nc.variables['Time']\n",
    "dtime = netCDF4.num2date(dtime[:], dtime.units)\n",
    "asc.columns = asc.columns.droplevel(1)\n",
    "asc.columns = asc.columns.droplevel(1)\n",
    "colors = itertools.cycle(Category10[6])"
   ]
  },
  {
   "cell_type": "code",
   "execution_count": null,
   "id": "240410f6-6fec-4165-9b3c-d4524aa5e76a",
   "metadata": {},
   "outputs": [],
   "source": [
    "# filter based on ground speed\n",
    "asc.drop(asc[asc['GGSPD'] < 20].index, inplace = True)"
   ]
  },
  {
   "cell_type": "markdown",
   "id": "f6cf051d-f147-48c5-a5c2-be7f3c3a0b12",
   "metadata": {},
   "source": [
    "## Flight Track"
   ]
  },
  {
   "cell_type": "code",
   "execution_count": null,
   "id": "3721fe1c-35b6-4c42-b1bf-d6856b4681b5",
   "metadata": {},
   "outputs": [],
   "source": [
    "flight_track = []\n",
    "flight_track.append(\"GGLAT\")\n",
    "flight_track.append(\"GGLON\")\n",
    "plot = figure(width=800, height=800, title=project + ' ' + flight + \" Flight Track\") \n",
    "plot.add_layout(Title(text=\"Longitude [Degrees]\", align=\"center\"), \"below\")\n",
    "plot.add_layout(Title(text=\"Latitude [Degrees]\", align=\"center\"), \"left\")\n",
    "try:\n",
    "    plot.line(asc[flight_track][\"GGLON\"], asc[flight_track][\"GGLAT\"], color=\"blue\")\n",
    "    show(plot)\n",
    "except Exception as e:\n",
    "    print(e)"
   ]
  },
  {
   "cell_type": "markdown",
   "id": "03b8d97f-5159-4635-8713-e55be2730c43",
   "metadata": {},
   "source": [
    "## Altitude, Heading, and GPS Quality"
   ]
  },
  {
   "cell_type": "code",
   "execution_count": null,
   "id": "b56ac8e0-ce44-4f4c-a428-d4bae74e63db",
   "metadata": {},
   "outputs": [],
   "source": [
    "alt_heading = []\n",
    "for i in asc.columns:\n",
    "    if i.startswith('GGALTF') | i.startswith('PALTF') | i.startswith('PA2'):\n",
    "        alt_heading.append(i)\n",
    "asc[alt_heading].describe()"
   ]
  },
  {
   "cell_type": "code",
   "execution_count": null,
   "id": "5d2e8662-d2e4-411a-9f18-cce10ce0389f",
   "metadata": {
    "tags": []
   },
   "outputs": [],
   "source": [
    "timeseries_plot(\"Altitude\", \"Altitude [Feet]\", alt_heading)\n",
    "\n",
    "colors = itertools.cycle(Category10[6])\n",
    "plot = figure(width=1200, height=400, title=\"Heading\") \n",
    "plot.add_layout(Title(text=\"Time [Seconds since Midnight]\", align=\"center\"), \"below\")\n",
    "plot.add_layout(Title(text=\"True Heading [Degrees]\", align=\"center\"), \"left\")\n",
    "try:\n",
    "    plot.line(asc['Time'], asc['THDG'], color=next(colors))\n",
    "    show(plot)\n",
    "except Exception as e:\n",
    "    print(e)\n",
    "\n",
    "colors = itertools.cycle(Category10[6])\n",
    "plot = figure(width=1200, height=400, title=\"GPS Quality: 5 = TerraStar corrected, 2 = TerraStar converging, 9 = WAAS, 1 = Standard GPS, 0 = No Fix\") \n",
    "plot.add_layout(Title(text=\"Time [Seconds since Midnight]\", align=\"center\"), \"below\")\n",
    "plot.add_layout(Title(text=\"GPS Quality []\", align=\"center\"), \"left\")\n",
    "try:\n",
    "    plot.line(asc['Time'], asc['GGQUAL'], color=next(colors), legend_label=\"GGQUAL\")\n",
    "except Exception as e:\n",
    "    print(e)\n",
    "try:\n",
    "    plot.line(asc['Time'], asc['GGNSAT'], color=next(colors), legend_label=\"GGNSAT\")\n",
    "    show(plot)\n",
    "except Exception as e:\n",
    "    print(e)"
   ]
  },
  {
   "cell_type": "markdown",
   "id": "570ecfbe-dcf4-4aa0-909c-2d3d09092bb7",
   "metadata": {},
   "source": [
    "## Temperatures"
   ]
  },
  {
   "cell_type": "markdown",
   "id": "e32048c1-7b5b-4cb9-b9cb-6fa53e5aa1c5",
   "metadata": {},
   "source": [
    "### Air Temperatures"
   ]
  },
  {
   "cell_type": "code",
   "execution_count": null,
   "id": "bf66babf-9a33-4cc9-be9e-30277d13d8d7",
   "metadata": {
    "tags": []
   },
   "outputs": [],
   "source": [
    "temp = []\n",
    "for i in asc.columns:\n",
    "    if i.startswith('ATX') | i.startswith('ATH') | i.startswith('ATF') | i.startswith('AT_'):\n",
    "        temp.append(i)\n",
    "try:\n",
    "    temp.remove('AT_VXL')\n",
    "except Exception as e:\n",
    "    print(e)\n",
    "asc[temp].describe()"
   ]
  },
  {
   "cell_type": "code",
   "execution_count": null,
   "id": "e8779969-6545-4d19-b118-3de9bbcf8891",
   "metadata": {
    "tags": []
   },
   "outputs": [],
   "source": [
    "timeseries_plot(\"Temperature\", \"Temperature [\\N{DEGREE CELSIUS}]\", temp)\n",
    "    \n",
    "colors = itertools.cycle(Category10[6])\n",
    "plot = figure(width=1200, height=400, title=\"ATX - Temperature\") \n",
    "plot.add_layout(Title(text=\"Time [Seconds since Midnight]\", align=\"center\"), \"below\")\n",
    "plot.add_layout(Title(text=\"Temperature Difference [\\N{DEGREE CELSIUS}]\", align=\"center\"), \"left\")\n",
    "for i in asc[temp].columns:\n",
    "    try:\n",
    "        plot.line(asc['Time'], asc['ATX'] - asc[temp][i], color=next(colors), legend_label=i)\n",
    "    except Exception as e:\n",
    "        print(e)\n",
    "try:\n",
    "    plot.legend.location = \"top_left\"\n",
    "    show(plot)\n",
    "except Exception as e:\n",
    "    print(e)\n",
    "    \n",
    "# loop over temperatures\n",
    "for i in asc[temp].columns:    \n",
    "    try:\n",
    "        # create plot labels\n",
    "        plot = figure(width=600, height=400, title=asc[temp][i].name) \n",
    "        plot.add_layout(Title(text=\"ATH1 [\\N{DEGREE CELSIUS}]\", align=\"center\"), \"below\")\n",
    "        plot.add_layout(Title(text=asc[temp][i].name + \" [\\N{DEGREE CELSIUS}]\", align=\"center\"), \"left\")\n",
    "    except Exception as e:\n",
    "        print(e)\n",
    "    try:\n",
    "        # create scatter plots\n",
    "        plot.scatter(asc[temp]['ATX'], asc[temp]['ATX'], color = 'black', line_dash = 'dotted', legend_label='1:1')\n",
    "        plot.scatter(asc[temp]['ATH1'], asc[temp][i], color='orange', legend_label=i)\n",
    "        \n",
    "        # create additional y axis range\n",
    "        plot.extra_y_ranges['delta'] = Range1d(-4, 4)\n",
    "        ax2 = LinearAxis(y_range_name=\"delta\", axis_label=\"Delta Temperature [C]\")\n",
    "        ax2.axis_label_text_color =\"red\"\n",
    "        plot.add_layout(ax2, 'right')\n",
    "        \n",
    "        # create line plot of temperature differences using the additional y axis range\n",
    "        plot.line(asc[temp]['ATH1'], asc[temp][i]-asc[temp]['ATH1'], color='red', legend_label=i, y_range_name=\"delta\")\n",
    "        plot.line(asc[temp]['ATH1'], 1, color = 'gray', y_range_name=\"delta\")\n",
    "        plot.line(asc[temp]['ATH1'], -1, color = 'gray', y_range_name=\"delta\")\n",
    "    except Exception as e:\n",
    "        print(e)\n",
    "    try:\n",
    "        plot.legend.location = \"top_left\"\n",
    "    except Exception as e:\n",
    "        print(e)\n",
    "    show(plot)"
   ]
  },
  {
   "cell_type": "markdown",
   "id": "d8cceeff-ba5a-40ec-b933-565c19ef47f3",
   "metadata": {},
   "source": [
    "### Dew Point Temperatures"
   ]
  },
  {
   "cell_type": "code",
   "execution_count": null,
   "id": "31cc9c19-4308-4f13-8a8d-a1bbd4ce4b25",
   "metadata": {
    "tags": []
   },
   "outputs": [],
   "source": [
    "dpt = []\n",
    "for i in asc.columns:\n",
    "    if i.startswith('DP_') | i.startswith('ATX'):\n",
    "        dpt.append(i)\n",
    "asc[dpt].describe()"
   ]
  },
  {
   "cell_type": "code",
   "execution_count": null,
   "id": "e08f34b7-1ed6-4d5f-9d4d-c4d0cddbfa64",
   "metadata": {
    "tags": []
   },
   "outputs": [],
   "source": [
    "timeseries_plot(\"Dew Point Temperatures\", \"Dew Point [C]\", dpt)\n",
    "\n",
    "colors = itertools.cycle(Category10[6])\n",
    "plot = figure(width=1200, height=400, title=\"Diff Dew Point Temperatures\") \n",
    "plot.add_layout(Title(text=\"Time [Seconds since Midnight]\", align=\"center\"), \"below\")\n",
    "plot.add_layout(Title(text=\"Diff DPL - DP Dew Point [C]\", align=\"center\"), \"left\")\n",
    "for i in asc[dpt].columns:\n",
    "    try:\n",
    "        plot.line(asc['Time'], asc['DP_DPL'] - asc[dpt][i], color=next(colors), legend_label=i)\n",
    "    except Exception as e:\n",
    "        print(e)\n",
    "try:\n",
    "    plot.legend.location = \"top_left\"\n",
    "    show(plot)\n",
    "except Exception as e:\n",
    "    print(e)   "
   ]
  },
  {
   "cell_type": "markdown",
   "id": "0a06c079-a427-4e9f-80c0-dd2a4982e53d",
   "metadata": {},
   "source": [
    "## Pressure"
   ]
  },
  {
   "cell_type": "code",
   "execution_count": null,
   "id": "8b5b249d-5b00-476a-9325-47f19606001b",
   "metadata": {
    "tags": []
   },
   "outputs": [],
   "source": [
    "# create plot labels\n",
    "plot = figure(width=900, height=900) \n",
    "plot.add_layout(Title(text=\"DP_DPR [C]\", align=\"center\"), \"below\")\n",
    "plot.add_layout(Title(text=\"DP_DPL [C]\", align=\"center\"), \"left\")\n",
    "try:\n",
    "    # create scatter plots\n",
    "    plot.scatter(asc['DP_DPR'], asc['DP_DPL'], color = 'blue', legend_label='DP_DPL')\n",
    "    plot.line(asc['DP_DPR'], asc['DP_DPR'], color = 'black', legend_label='1:1')\n",
    "\n",
    "    plot.line(asc['DP_DPR'], asc['DP_DPR']+5, color = 'orange', legend_label='+-5C')\n",
    "    plot.line(asc['DP_DPR'], asc['DP_DPR']-5, color = 'orange')\n",
    "\n",
    "except Exception as e:\n",
    "    print(e)\n",
    "try:\n",
    "    plot.legend.location = \"top_left\"\n",
    "except Exception as e:\n",
    "    print(e)\n",
    "show(plot)"
   ]
  },
  {
   "cell_type": "markdown",
   "id": "e528fc5e-a4e7-4db1-93cf-a7a0ac0392fa",
   "metadata": {},
   "source": [
    "### Cavity Pressure"
   ]
  },
  {
   "cell_type": "code",
   "execution_count": null,
   "id": "1bab60fb-7f92-454a-ac2b-34fb6001be3f",
   "metadata": {
    "jupyter": {
     "source_hidden": true
    }
   },
   "outputs": [],
   "source": [
    "cav_pressure = []\n",
    "for i in asc.columns:\n",
    "    if i.startswith('CAVP_') | i.startswith('CAVPF_') | i.startswith('PSXC'):\n",
    "        cav_pressure.append(i)\n",
    "asc[cav_pressure].describe()"
   ]
  },
  {
   "cell_type": "code",
   "execution_count": null,
   "id": "a2fde3c9-7ba1-495e-beb8-adb2db670a1c",
   "metadata": {
    "jupyter": {
     "source_hidden": true
    }
   },
   "outputs": [],
   "source": [
    "colors = itertools.cycle(Category10[8])\n",
    "plot = figure(width=1200, height=400, title=\"Cavity Pressure\") \n",
    "plot.add_layout(Title(text=\"Time [Seconds since Midnight]\", align=\"center\"), \"below\")\n",
    "plot.add_layout(Title(text=\"Pressure [hPa]]\", align=\"center\"), \"left\")\n",
    "for i in asc[cav_pressure].columns:\n",
    "    try:\n",
    "        plot.line(asc['Time'], asc[cav_pressure][i], color=next(colors), legend_label=i)\n",
    "    except Exception as e:\n",
    "        print(e)\n",
    "try:\n",
    "    plot.legend.location = \"top_left\"\n",
    "    show(plot)\n",
    "except Exception as e:\n",
    "    print(e)"
   ]
  },
  {
   "cell_type": "code",
   "execution_count": null,
   "id": "eb5f53a2-b67e-40d4-8b89-314de482977e",
   "metadata": {},
   "outputs": [],
   "source": [
    "vapor_pressure = []\n",
    "for i in asc.columns:\n",
    "    if i.startswith('EW_'):\n",
    "        vapor_pressure.append(i)\n",
    "try:\n",
    "    asc[vapor_pressure].describe()\n",
    "except Exception as e:\n",
    "    print(e)\n",
    "    \n",
    "mixing_ratio = []\n",
    "for i in asc.columns:\n",
    "    if i.startswith('MR_'):\n",
    "        mixing_ratio.append(i)\n",
    "try:\n",
    "    asc[mixing_ratio].describe()\n",
    "except Exception as e:\n",
    "    print(e)\n",
    "    \n",
    "rh = []\n",
    "for i in asc.columns:\n",
    "    if i.startswith('RH_'):\n",
    "        rh.append(i)\n",
    "try:\n",
    "    asc[rh].describe()\n",
    "except Exception as e:\n",
    "    print(e)"
   ]
  },
  {
   "cell_type": "code",
   "execution_count": null,
   "id": "2f0f2c7b-baec-44b0-aeee-5fcfea3f9e08",
   "metadata": {
    "jupyter": {
     "source_hidden": true
    }
   },
   "outputs": [],
   "source": [
    "colors = itertools.cycle(Category10[8])\n",
    "plot = figure(width=1200, height=400) \n",
    "plot.add_layout(Title(text=\"Time [Seconds since Midnight]\", align=\"center\"), \"below\")\n",
    "plot.add_layout(Title(text=\"EWy [hPa]]\", align=\"center\"), \"left\")\n",
    "for i in asc[vapor_pressure].columns:\n",
    "    try:\n",
    "        plot.line(asc['Time'], asc[vapor_pressure][i], color=next(colors), legend_label=i)\n",
    "    except Exception as e:\n",
    "        print(e)\n",
    "try:\n",
    "    plot.legend.location = \"top_left\"\n",
    "    show(plot)\n",
    "except Exception as e:\n",
    "    print(e)"
   ]
  },
  {
   "cell_type": "markdown",
   "id": "c08cb1f9-61ce-4133-837a-2f932d8d5dc2",
   "metadata": {},
   "source": [
    "### Static Pressure"
   ]
  },
  {
   "cell_type": "code",
   "execution_count": null,
   "id": "1b95ec55-7abd-4d88-bcda-953a6c9c8da8",
   "metadata": {
    "tags": []
   },
   "outputs": [],
   "source": [
    "static_pressure = []\n",
    "for i in asc.columns:\n",
    "    if i.startswith('PS_') | i.startswith('PSF') | i.startswith('PST'):\n",
    "        static_pressure.append(i)\n",
    "asc[static_pressure].describe()"
   ]
  },
  {
   "cell_type": "code",
   "execution_count": null,
   "id": "6b34b738-995e-46eb-8a88-8cc7d15387a7",
   "metadata": {
    "jupyter": {
     "source_hidden": true
    },
    "tags": []
   },
   "outputs": [],
   "source": [
    "colors = itertools.cycle(Category10[8])\n",
    "plot = figure(width=1200, height=400, title=\"Static Pressure\") \n",
    "plot.add_layout(Title(text=\"Time [Seconds since Midnight]\", align=\"center\"), \"below\")\n",
    "plot.add_layout(Title(text=\"Pressure [hPa]]\", align=\"center\"), \"left\")\n",
    "for i in asc[static_pressure].columns:\n",
    "    try:\n",
    "        plot.line(asc['Time'], asc[static_pressure][i], color=next(colors), legend_label=i)\n",
    "    except Exception as e:\n",
    "        print(e)\n",
    "try:\n",
    "    plot.legend.location = \"top_left\"\n",
    "    show(plot)\n",
    "except Exception as e:\n",
    "    print(e)\n",
    "\n",
    "colors = itertools.cycle(Category10[8])\n",
    "plot = figure(width=1200, height=400, title=\"Difference versus PSFC\") \n",
    "plot.add_layout(Title(text=\"Time [Seconds since Midnight]\", align=\"center\"), \"below\")\n",
    "plot.add_layout(Title(text=\"Pressure - PSFC [C]\", align=\"center\"), \"left\")\n",
    "for i in asc[static_pressure].columns:\n",
    "    try:\n",
    "        plot.line(asc['Time'], asc['PSFC'] - asc[static_pressure][i], color=next(colors), legend_label=i)\n",
    "    except Exception as e:\n",
    "        print(e)\n",
    "try:\n",
    "    plot.legend.location = \"top_left\"\n",
    "    show(plot)\n",
    "except Exception as e:\n",
    "    print(e)\n",
    "    \n",
    "colors = itertools.cycle(Category10[8])\n",
    "plot = figure(width=1200, height=400, title=\"Difference versus PSXC\") \n",
    "plot.add_layout(Title(text=\"Time [Seconds since Midnight]\", align=\"center\"), \"below\")\n",
    "plot.add_layout(Title(text=\"Pressure - PSXC [C]\", align=\"center\"), \"left\")\n",
    "for i in asc[static_pressure].columns:\n",
    "    try:\n",
    "        plot.line(asc['Time'], asc['PSXC'] - asc[static_pressure][i], color=next(colors), legend_label=i)\n",
    "    except Exception as e:\n",
    "        print(e)\n",
    "try:\n",
    "    plot.legend.location = \"top_left\"\n",
    "    show(plot)\n",
    "except Exception as e:\n",
    "    print(e) "
   ]
  },
  {
   "cell_type": "markdown",
   "id": "7b4a4d78-1de7-4ff8-a987-065d658b13df",
   "metadata": {},
   "source": [
    "### Dynamic Pressure"
   ]
  },
  {
   "cell_type": "code",
   "execution_count": null,
   "id": "d4890701-f30b-42c7-b5ad-263d8d2ac019",
   "metadata": {
    "tags": []
   },
   "outputs": [],
   "source": [
    "dynamic_pressure_corr = []\n",
    "for i in asc.columns:\n",
    "    if i.startswith('QC_') | i.startswith('QCTFC') | i.startswith('QCRC') | i.startswith('QCFC'):\n",
    "        dynamic_pressure_corr.append(i)\n",
    "asc[dynamic_pressure_corr].describe()"
   ]
  },
  {
   "cell_type": "code",
   "execution_count": null,
   "id": "10ac3c8a-4d89-4946-a8ac-7dcd7a46bfb8",
   "metadata": {
    "tags": []
   },
   "outputs": [],
   "source": [
    "dynamic_pressure_uncorr = []\n",
    "for i in asc.columns:\n",
    "    if i.startswith('QC_') | i.startswith('QCTF') | i.startswith('QCR') | i.startswith('QCF'):\n",
    "        dynamic_pressure_uncorr.append(i)\n",
    "try:\n",
    "    dynamic_pressure_uncorr.remove('QCRTEMP')\n",
    "except:\n",
    "    pass\n",
    "try:\n",
    "    dynamic_pressure_uncorr.remove('QCFTEMP')\n",
    "except:\n",
    "    pass\n",
    "try:\n",
    "    dynamic_pressure_uncorr.remove('QCTFTEMP')\n",
    "except:\n",
    "    pass\n",
    "try:\n",
    "    dynamic_pressure_uncorr.remove('QCTF')\n",
    "except:\n",
    "    pass\n",
    "asc[dynamic_pressure_uncorr].describe()"
   ]
  },
  {
   "cell_type": "code",
   "execution_count": null,
   "id": "9c3ebcf0-9c4e-410f-926c-bf27cd50df70",
   "metadata": {
    "jupyter": {
     "source_hidden": true
    },
    "tags": []
   },
   "outputs": [],
   "source": [
    "colors = itertools.cycle(Category10[8])\n",
    "plot = figure(width=1200, height=400, title=\"Dynamic Pressure\") \n",
    "plot.add_layout(Title(text=\"Time [Seconds since Midnight]\", align=\"center\"), \"below\")\n",
    "plot.add_layout(Title(text=\"Corrected Pressure QCyC [hPa]]\", align=\"center\"), \"left\")\n",
    "for i in asc[dynamic_pressure_corr].columns:\n",
    "    try:\n",
    "        plot.line(asc['Time'], asc[dynamic_pressure_corr][i], color=next(colors), legend_label=i)\n",
    "    except Exception as e:\n",
    "        print(e)\n",
    "try:\n",
    "    plot.legend.location = \"top_left\"\n",
    "    show(plot)\n",
    "except Exception as e:\n",
    "    print(e)\n",
    "\n",
    "colors = itertools.cycle(Category10[8])\n",
    "plot = figure(width=1200, height=400, title=\"Difference versus QCFC\") \n",
    "plot.add_layout(Title(text=\"Time [Seconds since Midnight]\", align=\"center\"), \"below\")\n",
    "plot.add_layout(Title(text=\"Pressure - QCFC [C]\", align=\"center\"), \"left\")\n",
    "for i in asc[dynamic_pressure_corr].columns:\n",
    "    try:\n",
    "        plot.line(asc['Time'], asc[dynamic_pressure_corr]['QCFC'] - asc[dynamic_pressure_corr][i], color=next(colors), legend_label=i)\n",
    "    except Exception as e:\n",
    "        print(e)\n",
    "try:\n",
    "    plot.legend.location = \"top_left\"\n",
    "    show(plot)\n",
    "except Exception as e:\n",
    "    print(e)\n",
    "    \n",
    "colors = itertools.cycle(Category10[8])\n",
    "plot = figure(width=1200, height=400, title=\"Difference versus PSXC\") \n",
    "plot.add_layout(Title(text=\"Time [Seconds since Midnight]\", align=\"center\"), \"below\")\n",
    "plot.add_layout(Title(text=\"Pressure - QCXC [C]\", align=\"center\"), \"left\")\n",
    "for i in asc[dynamic_pressure_uncorr].columns:\n",
    "    try:\n",
    "        plot.line(asc['Time'], asc['QCXC'] - asc[dynamic_pressure_uncorr][i], color=next(colors), legend_label=i)\n",
    "    except Exception as e:\n",
    "        print(e)\n",
    "try:\n",
    "    plot.legend.location = \"top_left\"\n",
    "    show(plot)\n",
    "except Exception as e:\n",
    "    print(e) "
   ]
  },
  {
   "cell_type": "markdown",
   "id": "dbc253b3-c39b-4d60-a152-f5b34977c5f1",
   "metadata": {},
   "source": [
    "## Airspeeds"
   ]
  },
  {
   "cell_type": "code",
   "execution_count": null,
   "id": "26a5f1ae-e080-4883-ab6a-7d393eb8cfdf",
   "metadata": {
    "jupyter": {
     "source_hidden": true
    }
   },
   "outputs": [],
   "source": [
    "airspeed = []\n",
    "for i in asc.columns:\n",
    "    if i.startswith('TAS'):\n",
    "        airspeed.append(i)\n",
    "try:\n",
    "    airspeed.remove('TASFLG')\n",
    "except:\n",
    "    pass\n",
    "asc[airspeed].describe()"
   ]
  },
  {
   "cell_type": "code",
   "execution_count": null,
   "id": "292ddbb2-8c56-4949-b656-ed912df6ca22",
   "metadata": {},
   "outputs": [],
   "source": [
    "colors = itertools.cycle(Category10[8])\n",
    "plot = figure(width=1200, height=400, title=\"Airspeed\") \n",
    "plot.add_layout(Title(text=\"Time [Seconds since Midnight]\", align=\"center\"), \"below\")\n",
    "plot.add_layout(Title(text=\"TASy [m/s]]\", align=\"center\"), \"left\")\n",
    "for i in asc[airspeed].columns:\n",
    "    try:\n",
    "        plot.line(asc['Time'], asc[airspeed][i], color=next(colors), legend_label=i)\n",
    "    except Exception as e:\n",
    "        print(e)\n",
    "try:\n",
    "    plot.legend.location = \"top_left\"\n",
    "    show(plot)\n",
    "except Exception as e:\n",
    "    print(e)\n",
    "\n",
    "colors = itertools.cycle(Category10[8])\n",
    "plot = figure(width=1200, height=400, title=\"Delta Airspeed\") \n",
    "plot.add_layout(Title(text=\"Time [Seconds since Midnight]\", align=\"center\"), \"below\")\n",
    "plot.add_layout(Title(text=\"Difference v TASF [m/s]\", align=\"center\"), \"left\")\n",
    "for i in asc[airspeed].columns:\n",
    "    try:\n",
    "        plot.line(asc['Time'], asc[airspeed][i]-asc['TASF'], color=next(colors), legend_label=i)\n",
    "    except Exception as e:\n",
    "        print(e)\n",
    "try:\n",
    "    plot.legend.location = \"top_left\"\n",
    "    show(plot)\n",
    "except Exception as e:\n",
    "    print(e)"
   ]
  },
  {
   "cell_type": "code",
   "execution_count": null,
   "id": "4745b2db-b39a-4a28-bc98-4bd6addab78d",
   "metadata": {
    "jupyter": {
     "source_hidden": true
    }
   },
   "outputs": [],
   "source": [
    "mach = []\n",
    "for i in asc.columns:\n",
    "    if i.startswith('MACH'):\n",
    "        mach.append(i)\n",
    "asc[mach].describe()"
   ]
  },
  {
   "cell_type": "code",
   "execution_count": null,
   "id": "cce26492-4e41-4dfa-9018-4d9b3ef1d981",
   "metadata": {},
   "outputs": [],
   "source": [
    "colors = itertools.cycle(Category10[8])\n",
    "plot = figure(width=1200, height=400, title=\"Mach\") \n",
    "plot.add_layout(Title(text=\"Time [Seconds since Midnight]\", align=\"center\"), \"below\")\n",
    "plot.add_layout(Title(text=\"MACHy\", align=\"center\"), \"left\")\n",
    "for i in asc[mach].columns:\n",
    "    try:\n",
    "        plot.line(asc['Time'], asc[mach][i], color=next(colors), legend_label=i)\n",
    "    except Exception as e:\n",
    "        print(e)\n",
    "try:\n",
    "    plot.legend.location = \"top_left\"\n",
    "    show(plot)\n",
    "except Exception as e:\n",
    "    print(e)"
   ]
  },
  {
   "cell_type": "code",
   "execution_count": null,
   "id": "a5f6bc10-0c77-4b2d-8715-247264537955",
   "metadata": {},
   "outputs": [],
   "source": [
    "pst = []\n",
    "for i in asc.columns:\n",
    "    if i.startswith('PST'):\n",
    "        pst.append(i)\n",
    "asc[pst].describe()"
   ]
  },
  {
   "cell_type": "code",
   "execution_count": null,
   "id": "1ae21255-b41b-47a8-8fa4-5a12c4200e69",
   "metadata": {},
   "outputs": [],
   "source": [
    "timeseries_plot(\"Corrected Static Pressure Top of Fuselage\", \"PSTF(C) [hPa]\", pst)"
   ]
  },
  {
   "cell_type": "markdown",
   "id": "5183f19c-7afe-42d7-b0aa-105831f340ca",
   "metadata": {},
   "source": [
    "## Winds"
   ]
  },
  {
   "cell_type": "markdown",
   "id": "336bcff1-73c9-403a-a439-889cc903b339",
   "metadata": {},
   "source": [
    "### Wind Direction"
   ]
  },
  {
   "cell_type": "code",
   "execution_count": null,
   "id": "82d47a6e-d239-462f-ab48-4f90fb1063a3",
   "metadata": {},
   "outputs": [],
   "source": [
    "wd_winds = []\n",
    "for i in asc.columns:\n",
    "    if i.startswith('WD') | i.startswith('IWD'):\n",
    "        wd_winds.append(i)\n",
    "asc[wd_winds].describe()"
   ]
  },
  {
   "cell_type": "code",
   "execution_count": null,
   "id": "cea1dffb-e3d4-41df-b292-650f89a23179",
   "metadata": {
    "scrolled": true
   },
   "outputs": [],
   "source": [
    "timeseries_plot(\"Wind Direction\", \"Wind Speed [m/s]\", wd_winds)"
   ]
  },
  {
   "cell_type": "markdown",
   "id": "71623e7a-7d5b-455f-8c92-b88546b520e4",
   "metadata": {},
   "source": [
    "### Wind Speeds"
   ]
  },
  {
   "cell_type": "code",
   "execution_count": null,
   "id": "448d9bd1-8e21-4fbc-9c91-a6a9b3cd5280",
   "metadata": {
    "jupyter": {
     "source_hidden": true
    }
   },
   "outputs": [],
   "source": [
    "ws_winds = []\n",
    "for i in asc.columns:\n",
    "    if i.startswith('WS') | i.startswith('IWS'):\n",
    "        ws_winds.append(i)\n",
    "asc[ws_winds].describe()"
   ]
  },
  {
   "cell_type": "code",
   "execution_count": null,
   "id": "a86ee17c-4d14-441f-bcb9-ad75023362cd",
   "metadata": {
    "jupyter": {
     "source_hidden": true
    }
   },
   "outputs": [],
   "source": [
    "timeseries_plot(\"Wind Speed\", \"Wind Speed [m/s]\", ws_winds)"
   ]
  },
  {
   "cell_type": "code",
   "execution_count": null,
   "id": "c81079bd-8965-40f3-abe7-8139e39db15f",
   "metadata": {},
   "outputs": [],
   "source": [
    "wi_winds = []\n",
    "for i in asc.columns:\n",
    "    if i.startswith('WIX') | i.startswith('WIC') | i.startswith('WIY'):\n",
    "        wi_winds.append(i)\n",
    "asc[wi_winds].describe()"
   ]
  },
  {
   "cell_type": "code",
   "execution_count": null,
   "id": "ca1e0f0f-f661-4910-9811-d89f52651162",
   "metadata": {},
   "outputs": [],
   "source": [
    "timeseries_plot(\"Vertical Wind Speed\", \"Vertical Wind Speed [m/s]\", wi_winds)"
   ]
  },
  {
   "cell_type": "code",
   "execution_count": null,
   "id": "e1bc4cbc-7878-43bf-8dbd-5b638e72196a",
   "metadata": {
    "jupyter": {
     "source_hidden": true
    }
   },
   "outputs": [],
   "source": [
    "east_wind = []\n",
    "for i in asc.columns:\n",
    "    if i.startswith('UIC') | i.startswith('IUX'):\n",
    "        east_wind.append(i)\n",
    "asc[east_wind].describe()"
   ]
  },
  {
   "cell_type": "code",
   "execution_count": null,
   "id": "ff2ce448-7196-450a-b7f7-f60b15f0bbe5",
   "metadata": {
    "jupyter": {
     "source_hidden": true
    }
   },
   "outputs": [],
   "source": [
    "north_wind = []\n",
    "for i in asc.columns:\n",
    "    if i.startswith('VIC') | i.startswith('IVY'):\n",
    "        north_wind.append(i)\n",
    "asc[north_wind].describe()"
   ]
  },
  {
   "cell_type": "code",
   "execution_count": null,
   "id": "3df00908-8c6d-4542-9c4a-b4aacab1fb30",
   "metadata": {
    "jupyter": {
     "source_hidden": true
    }
   },
   "outputs": [],
   "source": [
    "timeseries_plot(\"East Wind Speed\", \"East Wind Speed [m/s]\", east_wind)\n",
    "timeseries_plot(\"North Wind Speed\", \"North Wind Speed [m/s]\", north_wind)"
   ]
  },
  {
   "cell_type": "markdown",
   "id": "e0bb7dac-3695-40eb-a640-a0a37dca2286",
   "metadata": {},
   "source": [
    "## Schuler Oscillation"
   ]
  },
  {
   "cell_type": "code",
   "execution_count": 4,
   "id": "2137e9dd-74e4-42bb-ac29-f60d55eef798",
   "metadata": {
    "jupyter": {
     "source_hidden": true
    }
   },
   "outputs": [
    {
     "ename": "NameError",
     "evalue": "name 'itertools' is not defined",
     "output_type": "error",
     "traceback": [
      "\u001b[0;31m---------------------------------------------------------------------------\u001b[0m",
      "\u001b[0;31mNameError\u001b[0m                                 Traceback (most recent call last)",
      "\u001b[0;32m<ipython-input-4-697a7e2bae4f>\u001b[0m in \u001b[0;36m<module>\u001b[0;34m\u001b[0m\n\u001b[0;32m----> 1\u001b[0;31m \u001b[0mcolors\u001b[0m \u001b[0;34m=\u001b[0m \u001b[0mitertools\u001b[0m\u001b[0;34m.\u001b[0m\u001b[0mcycle\u001b[0m\u001b[0;34m(\u001b[0m\u001b[0mCategory10\u001b[0m\u001b[0;34m[\u001b[0m\u001b[0;36m8\u001b[0m\u001b[0;34m]\u001b[0m\u001b[0;34m)\u001b[0m\u001b[0;34m\u001b[0m\u001b[0;34m\u001b[0m\u001b[0m\n\u001b[0m\u001b[1;32m      2\u001b[0m \u001b[0mplot\u001b[0m \u001b[0;34m=\u001b[0m \u001b[0mfigure\u001b[0m\u001b[0;34m(\u001b[0m\u001b[0mwidth\u001b[0m\u001b[0;34m=\u001b[0m\u001b[0;36m1200\u001b[0m\u001b[0;34m,\u001b[0m \u001b[0mheight\u001b[0m\u001b[0;34m=\u001b[0m\u001b[0;36m400\u001b[0m\u001b[0;34m,\u001b[0m \u001b[0mtitle\u001b[0m\u001b[0;34m=\u001b[0m\u001b[0;34m\"IRU Schuler oscillation, east west component \"\u001b[0m\u001b[0;34m)\u001b[0m\u001b[0;34m\u001b[0m\u001b[0;34m\u001b[0m\u001b[0m\n\u001b[1;32m      3\u001b[0m \u001b[0mplot\u001b[0m\u001b[0;34m.\u001b[0m\u001b[0madd_layout\u001b[0m\u001b[0;34m(\u001b[0m\u001b[0mTitle\u001b[0m\u001b[0;34m(\u001b[0m\u001b[0mtext\u001b[0m\u001b[0;34m=\u001b[0m\u001b[0;34m\"Time [Seconds since Midnight]\"\u001b[0m\u001b[0;34m,\u001b[0m \u001b[0malign\u001b[0m\u001b[0;34m=\u001b[0m\u001b[0;34m\"center\"\u001b[0m\u001b[0;34m)\u001b[0m\u001b[0;34m,\u001b[0m \u001b[0;34m\"below\"\u001b[0m\u001b[0;34m)\u001b[0m\u001b[0;34m\u001b[0m\u001b[0;34m\u001b[0m\u001b[0m\n\u001b[1;32m      4\u001b[0m \u001b[0mplot\u001b[0m\u001b[0;34m.\u001b[0m\u001b[0madd_layout\u001b[0m\u001b[0;34m(\u001b[0m\u001b[0mTitle\u001b[0m\u001b[0;34m(\u001b[0m\u001b[0mtext\u001b[0m\u001b[0;34m=\u001b[0m\u001b[0;34m\"GGVEW [m/s]\"\u001b[0m\u001b[0;34m,\u001b[0m \u001b[0malign\u001b[0m\u001b[0;34m=\u001b[0m\u001b[0;34m\"center\"\u001b[0m\u001b[0;34m)\u001b[0m\u001b[0;34m,\u001b[0m \u001b[0;34m\"left\"\u001b[0m\u001b[0;34m)\u001b[0m\u001b[0;34m\u001b[0m\u001b[0;34m\u001b[0m\u001b[0m\n\u001b[1;32m      5\u001b[0m \u001b[0;32mtry\u001b[0m\u001b[0;34m:\u001b[0m\u001b[0;34m\u001b[0m\u001b[0;34m\u001b[0m\u001b[0m\n",
      "\u001b[0;31mNameError\u001b[0m: name 'itertools' is not defined"
     ]
    }
   ],
   "source": [
    "colors = itertools.cycle(Category10[8])\n",
    "plot = figure(width=1200, height=400, title=\"IRU Schuler oscillation, east west component \") \n",
    "plot.add_layout(Title(text=\"Time [Seconds since Midnight]\", align=\"center\"), \"below\")\n",
    "plot.add_layout(Title(text=\"GGVEW [m/s]\", align=\"center\"), \"left\")\n",
    "try:\n",
    "    plot.line(asc['Time'], asc[\"GGVEW\"], color=next(colors), legend_label=\"GGVEW\")\n",
    "except Exception as e:\n",
    "    print(e)\n",
    "try:\n",
    "     plot.line(asc['Time'], asc[\"VEW\"], color=next(colors), legend_label=\"VEW\")\n",
    "except Exception as e:\n",
    "    print(e)   \n",
    "\n",
    "try:\n",
    "     plot.line(asc['Time'], (asc[\"GGVEW\"] - asc[\"VEW\"]) *50, color=next(colors), legend_label=\"Difference * 50\")\n",
    "except Exception as e:\n",
    "    print(e)\n",
    "    \n",
    "try:\n",
    "    plot.legend.location = \"top_left\"\n",
    "    show(plot)\n",
    "except Exception as e:\n",
    "    print(e)"
   ]
  },
  {
   "cell_type": "code",
   "execution_count": null,
   "id": "8d447db1-31df-4738-be98-377222e94d9c",
   "metadata": {
    "jupyter": {
     "source_hidden": true
    }
   },
   "outputs": [],
   "source": [
    "colors = itertools.cycle(Category10[8])\n",
    "plot = figure(width=1200, height=400, title=\"IRU Schuler oscillation, north south component \") \n",
    "plot.add_layout(Title(text=\"Time [Seconds since Midnight]\", align=\"center\"), \"below\")\n",
    "plot.add_layout(Title(text=\"GGVNS [m/s]\", align=\"center\"), \"left\")\n",
    "try:\n",
    "    plot.line(asc['Time'], asc[\"GGVNS\"], color=next(colors), legend_label=\"GGVEW\")\n",
    "except Exception as e:\n",
    "    print(e)\n",
    "try:\n",
    "     plot.line(asc['Time'], asc[\"VNS\"], color=next(colors), legend_label=\"VEW\")\n",
    "except Exception as e:\n",
    "    print(e)   \n",
    "\n",
    "try:\n",
    "     plot.line(asc['Time'], (asc[\"GGVNS\"] - asc[\"VNS\"]) *50, color=next(colors), legend_label=\"Difference * 50\")\n",
    "except Exception as e:\n",
    "    print(e)\n",
    "    \n",
    "try:\n",
    "    plot.legend.location = \"top_left\"\n",
    "    show(plot)\n",
    "except Exception as e:\n",
    "    print(e)"
   ]
  },
  {
   "cell_type": "markdown",
   "id": "a8e5791f-d70e-4aba-a907-1d9b9926d03c",
   "metadata": {},
   "source": [
    "## Radome Pressures and Angles"
   ]
  },
  {
   "cell_type": "code",
   "execution_count": null,
   "id": "9258c423-8dfe-40bd-b7f0-2e722cce7268",
   "metadata": {},
   "outputs": [],
   "source": [
    "radome_angles = []\n",
    "for i in asc.columns:\n",
    "    if i.startswith('AKRD') | i.startswith('PITCH') | i.startswith('AOAREF'):\n",
    "        radome_angles.append(i)\n",
    "asc[radome_angles].describe()"
   ]
  },
  {
   "cell_type": "code",
   "execution_count": null,
   "id": "028a867f-f454-4e59-94af-a88d02f7985a",
   "metadata": {},
   "outputs": [],
   "source": [
    "timeseries_plot(\"Radome Angles\", \"Angle [Degrees]\", radome_angles)"
   ]
  },
  {
   "cell_type": "code",
   "execution_count": null,
   "id": "8255d032-f275-4e29-9b41-c3d52b1506a5",
   "metadata": {},
   "outputs": [],
   "source": [
    "colors = itertools.cycle(Category10[8])\n",
    "plot = figure(width=1200, height=400, title=\"\") \n",
    "plot.add_layout(Title(text=\"Time [Seconds since Midnight]\", align=\"center\"), \"below\")\n",
    "plot.add_layout(Title(text=\"SSRD [Degrees]\", align=\"center\"), \"left\")\n",
    "try:\n",
    "    plot.line(asc['Time'], asc[\"SSRD\"], color=next(colors), legend_label=\"SSRD\")\n",
    "except Exception as e:\n",
    "    print(e)\n",
    "try:\n",
    "    plot.legend.location = \"top_left\"\n",
    "    show(plot)\n",
    "except Exception as e:\n",
    "    print(e)"
   ]
  },
  {
   "cell_type": "code",
   "execution_count": null,
   "id": "b3e63b6c-ad71-40ed-a900-e4c8d7eea0bc",
   "metadata": {},
   "outputs": [],
   "source": [
    "colors = itertools.cycle(Category10[8])\n",
    "plot = figure(width=1200, height=400, title=\"\") \n",
    "plot.add_layout(Title(text=\"Time [Seconds since Midnight]\", align=\"center\"), \"below\")\n",
    "plot.add_layout(Title(text=\"ADIFR [hPa]\", align=\"center\"), \"left\")\n",
    "try:\n",
    "    plot.line(asc['Time'], asc[\"ADIFR\"], color=next(colors), legend_label=\"ADIFR\")\n",
    "except Exception as e:\n",
    "    print(e)\n",
    "try:\n",
    "    plot.legend.location = \"top_left\"\n",
    "    show(plot)\n",
    "except Exception as e:\n",
    "    print(e)"
   ]
  },
  {
   "cell_type": "code",
   "execution_count": null,
   "id": "eb079000-a763-4be1-a080-974bc7ed7725",
   "metadata": {},
   "outputs": [],
   "source": [
    "colors = itertools.cycle(Category10[8])\n",
    "plot = figure(width=1200, height=400, title=\"\") \n",
    "plot.add_layout(Title(text=\"Time [Seconds since Midnight]\", align=\"center\"), \"below\")\n",
    "plot.add_layout(Title(text=\"BDIFR [hPa]\", align=\"center\"), \"left\")\n",
    "try:\n",
    "    plot.line(asc['Time'], asc[\"BDIFR\"], color=next(colors), legend_label=\"BDIFR\")\n",
    "except Exception as e:\n",
    "    print(e)\n",
    "try:\n",
    "    plot.legend.location = \"top_left\"\n",
    "    show(plot)\n",
    "except Exception as e:\n",
    "    print(e)"
   ]
  },
  {
   "cell_type": "code",
   "execution_count": null,
   "id": "34672ff4-8d7e-46f7-8a21-1dae46e1d3fb",
   "metadata": {},
   "outputs": [],
   "source": [
    "acins = []\n",
    "for i in asc.columns:\n",
    "    if i.startswith('ACINS'):\n",
    "        acins.append(i)\n",
    "asc[acins].describe()"
   ]
  },
  {
   "cell_type": "code",
   "execution_count": null,
   "id": "5ec5d220-ca52-4f2a-b1ef-66c6768d0823",
   "metadata": {},
   "outputs": [],
   "source": [
    "timeseries_plot(\"IRS Vertical Acceleration\", \"ACINS [m/s^2]\", acins)"
   ]
  },
  {
   "cell_type": "markdown",
   "id": "68a37e66-c9a7-4b63-aca1-75b70bd9d81e",
   "metadata": {},
   "source": [
    "## Pitch, Roll, and Heading"
   ]
  },
  {
   "cell_type": "markdown",
   "id": "1c6e2e66-00c4-4be3-9a72-293ba40d3d13",
   "metadata": {},
   "source": [
    "### Pitch"
   ]
  },
  {
   "cell_type": "code",
   "execution_count": null,
   "id": "97f63f5d-a557-46f5-be6c-fa5bf86fe1e7",
   "metadata": {
    "jupyter": {
     "source_hidden": true
    }
   },
   "outputs": [],
   "source": [
    "pitch = []\n",
    "for i in asc.columns:\n",
    "    if i.startswith('PITCH'):\n",
    "        pitch.append(i)\n",
    "asc[pitch].describe()"
   ]
  },
  {
   "cell_type": "code",
   "execution_count": null,
   "id": "dbcce933-6c08-4f49-80d8-a55684de0e32",
   "metadata": {},
   "outputs": [],
   "source": [
    "colors = itertools.cycle(Category10[8])\n",
    "plot = figure(width=1200, height=400, title=\"Pitch\") \n",
    "plot.add_layout(Title(text=\"Time [Seconds since Midnight]\", align=\"center\"), \"below\")\n",
    "plot.add_layout(Title(text=\"PITCH [Degrees]\", align=\"center\"), \"left\")\n",
    "for i in asc[pitch].columns:\n",
    "    try:\n",
    "        plot.line(asc['Time'], asc[pitch][i], color=next(colors), legend_label=i)\n",
    "    except Exception as e:\n",
    "        print(e)\n",
    "    try:\n",
    "        plot.line(asc['Time'], (asc[pitch]['PITCH'] - asc[pitch]['PITCH_IRS2']) * 50, color=next(colors), legend_label=\"PITCH - PITCH_IRS2 Difference * 50\")\n",
    "    except Exception as e:\n",
    "        pass\n",
    "    try:\n",
    "        plot.line(asc['Time'], (asc[pitch]['PITCH'] - asc[pitch]['PITCH_IRS3']) * 50, color=next(colors), legend_label=\"PITCH - PITCH_IRS3 Difference * 50\")\n",
    "    except Exception as e:\n",
    "        pass\n",
    "try:\n",
    "    plot.legend.location = \"top_left\"\n",
    "except Exception as e:\n",
    "    print(e)\n",
    "    \n",
    "show(plot)"
   ]
  },
  {
   "cell_type": "markdown",
   "id": "88952e43-5720-4fd5-81e8-de00e676fbee",
   "metadata": {},
   "source": [
    "### Roll"
   ]
  },
  {
   "cell_type": "code",
   "execution_count": null,
   "id": "227466cb-9376-4dbd-acb8-8f59dec2f8cb",
   "metadata": {
    "jupyter": {
     "source_hidden": true
    }
   },
   "outputs": [],
   "source": [
    "roll = []\n",
    "for i in asc.columns:\n",
    "    if i.startswith('ROLL'):\n",
    "        roll.append(i)\n",
    "asc[roll].describe()"
   ]
  },
  {
   "cell_type": "code",
   "execution_count": null,
   "id": "45f48cd5-cd74-4216-8e0d-2c7bffb95e72",
   "metadata": {},
   "outputs": [],
   "source": [
    "colors = itertools.cycle(Category10[8])\n",
    "plot = figure(width=1200, height=400, title=\"Roll\") \n",
    "plot.add_layout(Title(text=\"Time [Seconds since Midnight]\", align=\"center\"), \"below\")\n",
    "plot.add_layout(Title(text=\"PITCH [Degrees]\", align=\"center\"), \"left\")\n",
    "for i in asc[roll].columns:\n",
    "    try:\n",
    "        plot.line(asc['Time'], asc[roll][i], color=next(colors), legend_label=i)\n",
    "    except Exception as e:\n",
    "        print(e)\n",
    "    try:\n",
    "        plot.line(asc['Time'], (asc[roll]['ROLL'] - asc[roll]['ROLL_IRS2']) * 500, color=next(colors), legend_label=\"ROLL - ROLL_IRS2 Difference * 500\")\n",
    "    except Exception as e:\n",
    "        pass\n",
    "    try:\n",
    "        plot.line(asc['Time'], (asc[roll]['ROLL'] - asc[roll]['ROLL_IRS3']) * 500, color=next(colors), legend_label=\"ROLL - ROLL_IRS3 Difference * 500\")\n",
    "    except Exception as e:\n",
    "        pass\n",
    "try:\n",
    "    plot.legend.location = \"top_left\"\n",
    "except Exception as e:\n",
    "    print(e) \n",
    "show(plot)"
   ]
  },
  {
   "cell_type": "markdown",
   "id": "252a2643-2dcd-4544-ac82-90fc5c3f8b38",
   "metadata": {},
   "source": [
    "### Heading"
   ]
  },
  {
   "cell_type": "code",
   "execution_count": null,
   "id": "8dc418ca-2d8b-4eb9-8ada-0563bf17b24a",
   "metadata": {
    "jupyter": {
     "source_hidden": true
    }
   },
   "outputs": [],
   "source": [
    "thdg = []\n",
    "for i in asc.columns:\n",
    "    if i.startswith('THDG'):\n",
    "        thdg.append(i)\n",
    "asc[thdg].describe()"
   ]
  },
  {
   "cell_type": "code",
   "execution_count": null,
   "id": "26408480-d767-4e14-863a-0a3718847ccd",
   "metadata": {},
   "outputs": [],
   "source": [
    "colors = itertools.cycle(Category10[8])\n",
    "plot = figure(width=1200, height=400, title=\"True Heading\") \n",
    "plot.add_layout(Title(text=\"Time [Seconds since Midnight]\", align=\"center\"), \"below\")\n",
    "plot.add_layout(Title(text=\"THDG [degrees]\", align=\"center\"), \"left\")\n",
    "\n",
    "for i in asc[thdg].columns:\n",
    "    try:\n",
    "        plot.line(asc['Time'], asc[thdg][i], color=next(colors), legend_label=i)\n",
    "    except Exception as e:\n",
    "        print(e)\n",
    "try:\n",
    "    plot.legend.location = \"top_left\"\n",
    "except Exception as e:\n",
    "    print(e)  \n",
    "show(plot)"
   ]
  },
  {
   "cell_type": "markdown",
   "id": "24eaa853-2d30-4d11-a62b-6c000c1f9663",
   "metadata": {},
   "source": [
    "## ACINS, VSPD, Altitude"
   ]
  },
  {
   "cell_type": "markdown",
   "id": "72c9687a-f920-4558-b857-1028bcd2f5fa",
   "metadata": {},
   "source": [
    "### ACINS"
   ]
  },
  {
   "cell_type": "code",
   "execution_count": null,
   "id": "897395ed-b38c-42d4-b4ec-33ca9029870a",
   "metadata": {
    "jupyter": {
     "source_hidden": true
    }
   },
   "outputs": [],
   "source": [
    "acins = []\n",
    "for i in asc.columns:\n",
    "    if i.startswith('ACINS'):\n",
    "        acins.append(i)\n",
    "asc[acins].describe()"
   ]
  },
  {
   "cell_type": "code",
   "execution_count": null,
   "id": "ed686112-e9c1-4116-9bd7-63a8845bd4e2",
   "metadata": {},
   "outputs": [],
   "source": [
    "colors = itertools.cycle(Category10[8])\n",
    "plot = figure(width=1200, height=400, title=\"ACINS\") \n",
    "plot.add_layout(Title(text=\"Time [Seconds since Midnight]\", align=\"center\"), \"below\")\n",
    "plot.add_layout(Title(text=\"ACINS [m/s^2]\", align=\"center\"), \"left\")\n",
    "\n",
    "for i in asc[acins].columns:\n",
    "    try:\n",
    "        plot.line(asc['Time'], asc[acins][i], color=next(colors), legend_label=i)\n",
    "    except Exception as e:\n",
    "        print(e)\n",
    "try:\n",
    "    plot.legend.location = \"top_left\"\n",
    "except Exception as e:\n",
    "    print(e)  \n",
    "show(plot)"
   ]
  },
  {
   "cell_type": "markdown",
   "id": "1c784659-1d1f-47e8-b837-ec0ceb0d04b8",
   "metadata": {},
   "source": [
    "### VSPD "
   ]
  },
  {
   "cell_type": "code",
   "execution_count": null,
   "id": "60a11056-9ff5-4fc6-8cb3-a7576dd8b2fd",
   "metadata": {},
   "outputs": [],
   "source": [
    "vspd = []\n",
    "for i in asc.columns:\n",
    "    if i.startswith('VSPD'):\n",
    "        vspd.append(i)\n",
    "asc[vspd].describe()"
   ]
  },
  {
   "cell_type": "code",
   "execution_count": null,
   "id": "cda35e28-08ae-491a-b96c-91df0350180d",
   "metadata": {},
   "outputs": [],
   "source": [
    "colors = itertools.cycle(Category10[8])\n",
    "plot = figure(width=1200, height=400, title=\"VSPD\") \n",
    "plot.add_layout(Title(text=\"Time [Seconds since Midnight]\", align=\"center\"), \"below\")\n",
    "plot.add_layout(Title(text=\"VSPD\", align=\"center\"), \"left\")\n",
    "\n",
    "for i in asc[vspd].columns:\n",
    "    try:\n",
    "        plot.line(asc['Time'], asc[vspd][i], color=next(colors), legend_label=i)\n",
    "    except Exception as e:\n",
    "        print(e)\n",
    "try:\n",
    "    plot.legend.location = \"top_left\"\n",
    "except Exception as e:\n",
    "    print(e)  \n",
    "show(plot)"
   ]
  },
  {
   "cell_type": "markdown",
   "id": "c56da230-db0a-4492-b28b-77ce66144fea",
   "metadata": {},
   "source": [
    "### Altitude"
   ]
  },
  {
   "cell_type": "code",
   "execution_count": null,
   "id": "d2ae17da-2c35-473e-a847-fe3585162f25",
   "metadata": {
    "jupyter": {
     "source_hidden": true
    }
   },
   "outputs": [],
   "source": [
    "alt = []\n",
    "for i in asc.columns:\n",
    "    if i.startswith('GGALT') | i.startswith('ALT_'):\n",
    "        alt.append(i)\n",
    "try:\n",
    "    alt.remove('GGALTSD_232')\n",
    "except:\n",
    "    pass\n",
    "try:\n",
    "    alt.remove('GGALTSD')\n",
    "except:\n",
    "    pass\n",
    "\n",
    "asc[alt].describe()"
   ]
  },
  {
   "cell_type": "code",
   "execution_count": null,
   "id": "497b13f3-c552-45ec-a7f6-883d47286f87",
   "metadata": {
    "jupyter": {
     "source_hidden": true
    }
   },
   "outputs": [],
   "source": [
    "colors = itertools.cycle(Category10[8])\n",
    "plot = figure(width=1200, height=400, title=\"Altitude\") \n",
    "plot.add_layout(Title(text=\"Time [Seconds since Midnight]\", align=\"center\"), \"below\")\n",
    "plot.add_layout(Title(text=\"Altitude (ALT) [m]\", align=\"center\"), \"left\")\n",
    "\n",
    "for i in asc[alt].columns:\n",
    "    try:\n",
    "        plot.line(asc['Time'], asc[alt][i], color=next(colors), legend_label=i)\n",
    "    except Exception as e:\n",
    "        print(e)\n",
    "try:\n",
    "    plot.legend.location = \"top_left\"\n",
    "except Exception as e:\n",
    "    print(e)  \n",
    "show(plot)"
   ]
  },
  {
   "cell_type": "markdown",
   "id": "ab875dd5-f5a4-4298-87ee-a14a2d6e3978",
   "metadata": {},
   "source": [
    "## Skew-T Plot"
   ]
  },
  {
   "cell_type": "code",
   "execution_count": null,
   "id": "5fa0a4b1-162b-41da-81af-5aca3b802066",
   "metadata": {},
   "outputs": [],
   "source": [
    "from metpy.units import pandas_dataframe_to_unit_arrays, units\n",
    "plt.rcParams['figure.figsize'] = (20, 20)\n",
    "\n",
    "p = asc['PSXC']\n",
    "T = asc['ATX']\n",
    "Td = asc['DP_DPL']\n",
    "skew = SkewT()\n",
    "\n",
    "# Plot the data using normal plotting functions, in this case using\n",
    "# log scaling in Y, as dictated by the typical meteorological plot\n",
    "skew.plot(p, T, 'r')\n",
    "skew.plot(p, Td, 'g')\n",
    "\n",
    "# Set some better labels than the default\n",
    "skew.ax.set_xlabel('Temperature [\\N{DEGREE CELSIUS}]')\n",
    "skew.ax.set_ylabel('Pressure [hPa]')\n",
    "\n",
    "# Add the relevant special lines\n",
    "skew.plot_dry_adiabats()\n",
    "skew.plot_moist_adiabats()\n",
    "skew.plot_mixing_lines()\n",
    "skew.ax.set_ylim(1000, 100)\n",
    "skew.ax.set_xlim(-60, 30)"
   ]
  },
  {
   "cell_type": "markdown",
   "id": "218fda86-521d-4450-beab-b4201a8f38c8",
   "metadata": {},
   "source": [
    "## Potential Temperature"
   ]
  },
  {
   "cell_type": "code",
   "execution_count": null,
   "id": "ade7a66b-cd89-4da7-9fb1-d4fe36143d35",
   "metadata": {},
   "outputs": [],
   "source": [
    "theta = []\n",
    "for i in asc.columns:\n",
    "    if i.startswith('THETA'):\n",
    "        theta.append(i)\n",
    "\n",
    "asc[theta].describe()"
   ]
  },
  {
   "cell_type": "code",
   "execution_count": null,
   "id": "b95bc827-a497-4abd-b639-d6baafbc0abd",
   "metadata": {},
   "outputs": [],
   "source": [
    "timeseries_plot(\"Potential Temperature\", \"THETA [K]\", theta)"
   ]
  },
  {
   "cell_type": "code",
   "execution_count": null,
   "id": "808e3dd9-efe6-427c-ab51-ae4cb87a1155",
   "metadata": {
    "jupyter": {
     "source_hidden": true
    }
   },
   "outputs": [],
   "source": [
    "colors = itertools.cycle(Category10[8])\n",
    "plot = figure(width=800, height=800, title=\"\") \n",
    "plot.add_layout(Title(text=\"Potential Temperature [K]\", align=\"center\"), \"below\")\n",
    "plot.add_layout(Title(text=\"Pressure [hPa]\", align=\"center\"), \"left\")\n",
    "\n",
    "for i in asc[theta].columns:\n",
    "    try:\n",
    "        plot.line(asc[theta][i], asc['PSXC'], color=next(colors), legend_label=i)\n",
    "    except Exception as e:\n",
    "        print(e)\n",
    "try:\n",
    "    plot.legend.location = \"top_left\"\n",
    "except Exception as e:\n",
    "    print(e)  \n",
    "show(plot)"
   ]
  },
  {
   "cell_type": "markdown",
   "id": "59a54c28-d62c-4ec1-a6e8-f2784b98364c",
   "metadata": {},
   "source": [
    "## Chemistry"
   ]
  },
  {
   "cell_type": "code",
   "execution_count": null,
   "id": "4d0fce31-40f3-47c0-8229-5c9d6ffec4f1",
   "metadata": {
    "jupyter": {
     "source_hidden": true
    }
   },
   "outputs": [],
   "source": [
    "colors = itertools.cycle(Category10[8])\n",
    "plot = figure(width=1200, height=400, title=\"Carbon Dioxide\") \n",
    "plot.add_layout(Title(text=\"ppmv\", align=\"center\"), \"left\")\n",
    "\n",
    "try:\n",
    "    plot.line(asc['Time'], asc['CO2C_PIC2401'], color=next(colors), legend_label='CO2C_PIC2401')\n",
    "except Exception as e:\n",
    "        print(e)\n",
    "try:\n",
    "    plot.line(asc['Time'], asc['CO2_PIC2401'], color=next(colors), legend_label='CO2_PIC2401')\n",
    "except Exception as e:\n",
    "        print(e)\n",
    "try:\n",
    "    plot.legend.location = \"top_left\"\n",
    "except Exception as e:\n",
    "    print(e)  \n",
    "show(plot)\n",
    "colors = itertools.cycle(Category10[8])\n",
    "plot = figure(width=1200, height=400, title=\"Methane\") \n",
    "plot.add_layout(Title(text=\"ppmv\", align=\"center\"), \"left\")\n",
    "\n",
    "try:\n",
    "    plot.line(asc['Time'], asc['CH4C_PIC2401'], color=next(colors), legend_label='CH4C_PIC2401')\n",
    "except Exception as e:\n",
    "        print(e)\n",
    "try:\n",
    "    plot.line(asc['Time'], asc['CH4_PIC2401'], color=next(colors), legend_label='CH4_PIC2401')\n",
    "except Exception as e:\n",
    "        print(e)\n",
    "try:\n",
    "    plot.legend.location = \"top_left\"\n",
    "except Exception as e:\n",
    "    print(e)  \n",
    "show(plot)\n",
    "colors = itertools.cycle(Category10[8])\n",
    "plot = figure(width=1200, height=400, title=\"Carbon Monixide and Fast Ozone (if available, scaled / 1000)\") \n",
    "plot.add_layout(Title(text=\"Time [Seconds since Midnight]\", align=\"center\"), \"below\")\n",
    "plot.add_layout(Title(text=\"ppb\", align=\"center\"), \"left\")\n",
    "\n",
    "try:\n",
    "    plot.line(asc['Time'], asc['CO_PIC2401'], color=next(colors), legend_label='CO_PIC2401')\n",
    "except Exception as e:\n",
    "        print(e)\n",
    "try:\n",
    "    plot.line(asc['Time'], asc['CO_ARI']/1000, color=next(colors), legend_label='CO_ARI')\n",
    "except Exception as e:\n",
    "        print(e)\n",
    "try:\n",
    "    plot.legend.location = \"top_left\"\n",
    "except Exception as e:\n",
    "    print(e)  \n",
    "show(plot)"
   ]
  },
  {
   "cell_type": "markdown",
   "id": "518a25a5-aad0-413b-8cdc-eb4e66aa343e",
   "metadata": {},
   "source": [
    "## Cloud Probe Histograms"
   ]
  },
  {
   "cell_type": "code",
   "execution_count": null,
   "id": "7683da91-47ec-4460-9d48-141bf8fa8688",
   "metadata": {},
   "outputs": [],
   "source": [
    "cdp = []\n",
    "for i in asc.columns:\n",
    "    if i.startswith('CCDP'):\n",
    "        cdp.append(i)\n",
    "try:\n",
    "    asc[cdp].describe()\n",
    "except Exception as e:\n",
    "    print(e)"
   ]
  },
  {
   "cell_type": "code",
   "execution_count": null,
   "id": "7e69e644-230b-4a0d-8ab3-e5f9979cfc85",
   "metadata": {},
   "outputs": [],
   "source": [
    "colors = itertools.cycle(Category10[8])\n",
    "plot = figure(width=1200, height=400, title=\"CDP\") \n",
    "plot.add_layout(Title(text=\"Time [Seconds since Midnight]\", align=\"center\"), \"below\")\n",
    "plot.add_layout(Title(text=\"CDP\", align=\"center\"), \"left\")\n",
    "\n",
    "for i in asc[cdp].columns:\n",
    "    try:\n",
    "        plot.line(asc['Time'], asc[cdp][i], color=next(colors), legend_label=i)\n",
    "    except Exception as e:\n",
    "        print(e)\n",
    "try:\n",
    "    plot.legend.location = \"top_left\"\n",
    "except Exception as e:\n",
    "    print(e)  \n",
    "show(plot)"
   ]
  }
 ],
 "metadata": {
  "kernelspec": {
   "display_name": "Python 3",
   "language": "python",
   "name": "python3"
  },
  "language_info": {
   "codemirror_mode": {
    "name": "ipython",
    "version": 3
   },
   "file_extension": ".py",
   "mimetype": "text/x-python",
   "name": "python",
   "nbconvert_exporter": "python",
   "pygments_lexer": "ipython3",
   "version": "3.6.8"
  }
 },
 "nbformat": 4,
 "nbformat_minor": 5
}
